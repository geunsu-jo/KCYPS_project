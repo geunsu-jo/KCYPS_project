{
  "nbformat": 4,
  "nbformat_minor": 0,
  "metadata": {
    "colab": {
      "name": "201611533_project.ipynb",
      "provenance": [],
      "collapsed_sections": [],
      "toc_visible": true,
      "mount_file_id": "1oE66Prgz4w2ojbPgH7BCq4j1HOxVv8Up",
      "authorship_tag": "ABX9TyOoUWaUuq5ZFqolhUNWiwih",
      "include_colab_link": true
    },
    "kernelspec": {
      "name": "python3",
      "display_name": "Python 3"
    }
  },
  "cells": [
    {
      "cell_type": "markdown",
      "metadata": {
        "id": "view-in-github",
        "colab_type": "text"
      },
      "source": [
        "<a href=\"https://colab.research.google.com/github/geunsu-jo/KCYPS_project/blob/main/Modeling.ipynb\" target=\"_parent\"><img src=\"https://colab.research.google.com/assets/colab-badge.svg\" alt=\"Open In Colab\"/></a>"
      ]
    },
    {
      "cell_type": "code",
      "metadata": {
        "id": "qOZtmyeHnNes"
      },
      "source": [
        "import numpy as np\r\n",
        "import pandas as pd\r\n",
        "import matplotlib.pyplot as plt"
      ],
      "execution_count": 1,
      "outputs": []
    },
    {
      "cell_type": "code",
      "metadata": {
        "id": "rGKnKOaonPCq"
      },
      "source": [
        "train_data = pd.read_excel(\"/content/drive/MyDrive/Colab Notebooks/train_data.xlsx\")\r\n",
        "test_data = pd.read_excel(\"/content/drive/MyDrive/Colab Notebooks/test_data.xlsx\")"
      ],
      "execution_count": 2,
      "outputs": []
    },
    {
      "cell_type": "code",
      "metadata": {
        "id": "UpmWeZamnslX",
        "colab": {
          "base_uri": "https://localhost:8080/"
        },
        "outputId": "5077bb05-b1ca-4ecd-a4ef-948660da1dd7"
      },
      "source": [
        "train_data.shape, test_data.shape"
      ],
      "execution_count": 3,
      "outputs": [
        {
          "output_type": "execute_result",
          "data": {
            "text/plain": [
              "((1950, 68), (488, 68))"
            ]
          },
          "metadata": {
            "tags": []
          },
          "execution_count": 3
        }
      ]
    },
    {
      "cell_type": "markdown",
      "metadata": {
        "id": "5IuDd4xOI3mT"
      },
      "source": [
        "__target 변수와 상관관계가 높은 상위 5개 문항__"
      ]
    },
    {
      "cell_type": "code",
      "metadata": {
        "colab": {
          "base_uri": "https://localhost:8080/"
        },
        "id": "0wiQinxyGVOP",
        "outputId": "720b1d3b-68af-45ba-c258-3bc7347860c3"
      },
      "source": [
        "cor_matrix = train_data.corr()\r\n",
        "np.abs(cor_matrix[\"y\"]).sort_values(ascending=False).head(10)"
      ],
      "execution_count": 4,
      "outputs": [
        {
          "output_type": "execute_result",
          "data": {
            "text/plain": [
              "y             1.000000\n",
              "YDLQ2A01w2    0.370374\n",
              "YDLQ2A11w2    0.274998\n",
              "YPSY4B02w2    0.183792\n",
              "YPSY4B04w2    0.176393\n",
              "YPSY4B05w2    0.158071\n",
              "YPSY4C05w2    0.154201\n",
              "YINT2B16w2    0.150872\n",
              "YPSY4A02w2    0.147855\n",
              "YPSY4A01w2    0.146561\n",
              "Name: y, dtype: float64"
            ]
          },
          "metadata": {
            "tags": []
          },
          "execution_count": 4
        }
      ]
    },
    {
      "cell_type": "markdown",
      "metadata": {
        "id": "IDLL0j8_ccGj"
      },
      "source": [
        "__target__ 데이터 생성"
      ]
    },
    {
      "cell_type": "code",
      "metadata": {
        "id": "k5qGWSK5nyy0"
      },
      "source": [
        "y_train = train_data[\"y\"]\r\n",
        "y_test = test_data[\"y\"]"
      ],
      "execution_count": 5,
      "outputs": []
    },
    {
      "cell_type": "markdown",
      "metadata": {
        "id": "gNFG7Qt1ceQJ"
      },
      "source": [
        "__feature__데이터 생성"
      ]
    },
    {
      "cell_type": "code",
      "metadata": {
        "id": "msK-KLJCn1Ke",
        "colab": {
          "base_uri": "https://localhost:8080/",
          "height": 215
        },
        "outputId": "abdaec33-925f-48fa-bf85-68d14a7c67f5"
      },
      "source": [
        "X_train = train_data.drop(['y'], axis=1)\r\n",
        "X_test = test_data.drop(['y'], axis=1)\r\n",
        "X_train.head()"
      ],
      "execution_count": 6,
      "outputs": [
        {
          "output_type": "execute_result",
          "data": {
            "text/html": [
              "<div>\n",
              "<style scoped>\n",
              "    .dataframe tbody tr th:only-of-type {\n",
              "        vertical-align: middle;\n",
              "    }\n",
              "\n",
              "    .dataframe tbody tr th {\n",
              "        vertical-align: top;\n",
              "    }\n",
              "\n",
              "    .dataframe thead th {\n",
              "        text-align: right;\n",
              "    }\n",
              "</style>\n",
              "<table border=\"1\" class=\"dataframe\">\n",
              "  <thead>\n",
              "    <tr style=\"text-align: right;\">\n",
              "      <th></th>\n",
              "      <th>YTIM1B02w2</th>\n",
              "      <th>YTIM1C02w2</th>\n",
              "      <th>YTIM1D02w2</th>\n",
              "      <th>YTIM1E02w2</th>\n",
              "      <th>YTIM1G02w2</th>\n",
              "      <th>YTIM1H02w2</th>\n",
              "      <th>YTIM1J02w2</th>\n",
              "      <th>YTIM1K01w2</th>\n",
              "      <th>YTIM1K02w2</th>\n",
              "      <th>YTIM1L02w2</th>\n",
              "      <th>YTIM1N01w2</th>\n",
              "      <th>YTIM1N02w2</th>\n",
              "      <th>YINT2B08w2</th>\n",
              "      <th>YINT2B16w2</th>\n",
              "      <th>YFUR1A00w2</th>\n",
              "      <th>YFUR1B00w2</th>\n",
              "      <th>YFUR2A06w2</th>\n",
              "      <th>YPSY4A01w2</th>\n",
              "      <th>YPSY4A02w2</th>\n",
              "      <th>YPSY4B02w2</th>\n",
              "      <th>YPSY4B04w2</th>\n",
              "      <th>YPSY4B05w2</th>\n",
              "      <th>YPSY4C02w2</th>\n",
              "      <th>YPSY4C03w2</th>\n",
              "      <th>YPSY4C05w2</th>\n",
              "      <th>YPSY4C08w2</th>\n",
              "      <th>YPSY5A05w2</th>\n",
              "      <th>YPSY5A06w2</th>\n",
              "      <th>YPSY6A08w2</th>\n",
              "      <th>YPSY6A20w2</th>\n",
              "      <th>YPSY6A30w2</th>\n",
              "      <th>YDLQ2A01w2</th>\n",
              "      <th>YDLQ2A11w2</th>\n",
              "      <th>YPHY1B00w2</th>\n",
              "      <th>YPHY1C00w2</th>\n",
              "      <th>YPHY2A00w2</th>\n",
              "      <th>YPHY2C00w2</th>\n",
              "      <th>YMDA1B02w2</th>\n",
              "      <th>YMDA1B05w2</th>\n",
              "      <th>YMDA1B06w2</th>\n",
              "      <th>YMDA1B07w2</th>\n",
              "      <th>YMDA1B08w2</th>\n",
              "      <th>YMDA1B09w2</th>\n",
              "      <th>YMDA1B11w2</th>\n",
              "      <th>YMDA1B12w2</th>\n",
              "      <th>YMDA1C01w2</th>\n",
              "      <th>YMDA1C02w2</th>\n",
              "      <th>YMDA1C08w2</th>\n",
              "      <th>YMDA1C12w2</th>\n",
              "      <th>YMDA1C14w2</th>\n",
              "      <th>YMDA1C15w2</th>\n",
              "      <th>YACT1A03w2</th>\n",
              "      <th>YACT1A05w2</th>\n",
              "      <th>YACT1A06w2</th>\n",
              "      <th>YEDU2A09w2</th>\n",
              "      <th>YEDU2A11w2</th>\n",
              "      <th>YEDU3A01w2</th>\n",
              "      <th>YEDU3A04w2</th>\n",
              "      <th>YEDU3A05w2</th>\n",
              "      <th>YEDU3A06w2</th>\n",
              "      <th>YEDU3A07w2</th>\n",
              "      <th>YEDU3A10w2</th>\n",
              "      <th>YFAM2F02w2</th>\n",
              "      <th>YFAM2F03w2</th>\n",
              "      <th>YFAM2F04w2</th>\n",
              "      <th>PPSY1A02w2</th>\n",
              "      <th>PPHY1A00w2</th>\n",
              "    </tr>\n",
              "  </thead>\n",
              "  <tbody>\n",
              "    <tr>\n",
              "      <th>0</th>\n",
              "      <td>0</td>\n",
              "      <td>3</td>\n",
              "      <td>3</td>\n",
              "      <td>1</td>\n",
              "      <td>1</td>\n",
              "      <td>4</td>\n",
              "      <td>1</td>\n",
              "      <td>4</td>\n",
              "      <td>5</td>\n",
              "      <td>2</td>\n",
              "      <td>4</td>\n",
              "      <td>4</td>\n",
              "      <td>2</td>\n",
              "      <td>2</td>\n",
              "      <td>5</td>\n",
              "      <td>1</td>\n",
              "      <td>2</td>\n",
              "      <td>2</td>\n",
              "      <td>2</td>\n",
              "      <td>2</td>\n",
              "      <td>2</td>\n",
              "      <td>2</td>\n",
              "      <td>2</td>\n",
              "      <td>2</td>\n",
              "      <td>2</td>\n",
              "      <td>2</td>\n",
              "      <td>3</td>\n",
              "      <td>3</td>\n",
              "      <td>0</td>\n",
              "      <td>1</td>\n",
              "      <td>0</td>\n",
              "      <td>1</td>\n",
              "      <td>1</td>\n",
              "      <td>1</td>\n",
              "      <td>6</td>\n",
              "      <td>159</td>\n",
              "      <td>5</td>\n",
              "      <td>3</td>\n",
              "      <td>4</td>\n",
              "      <td>1</td>\n",
              "      <td>3</td>\n",
              "      <td>4</td>\n",
              "      <td>4</td>\n",
              "      <td>2</td>\n",
              "      <td>2</td>\n",
              "      <td>3</td>\n",
              "      <td>2</td>\n",
              "      <td>2</td>\n",
              "      <td>2</td>\n",
              "      <td>3</td>\n",
              "      <td>2</td>\n",
              "      <td>1</td>\n",
              "      <td>1</td>\n",
              "      <td>1</td>\n",
              "      <td>2</td>\n",
              "      <td>2</td>\n",
              "      <td>2</td>\n",
              "      <td>2</td>\n",
              "      <td>3</td>\n",
              "      <td>2</td>\n",
              "      <td>3</td>\n",
              "      <td>2</td>\n",
              "      <td>2</td>\n",
              "      <td>2</td>\n",
              "      <td>3</td>\n",
              "      <td>4</td>\n",
              "      <td>3</td>\n",
              "    </tr>\n",
              "    <tr>\n",
              "      <th>1</th>\n",
              "      <td>0</td>\n",
              "      <td>3</td>\n",
              "      <td>5</td>\n",
              "      <td>1</td>\n",
              "      <td>1</td>\n",
              "      <td>5</td>\n",
              "      <td>5</td>\n",
              "      <td>6</td>\n",
              "      <td>6</td>\n",
              "      <td>6</td>\n",
              "      <td>5</td>\n",
              "      <td>6</td>\n",
              "      <td>2</td>\n",
              "      <td>2</td>\n",
              "      <td>3</td>\n",
              "      <td>1</td>\n",
              "      <td>1</td>\n",
              "      <td>2</td>\n",
              "      <td>2</td>\n",
              "      <td>2</td>\n",
              "      <td>2</td>\n",
              "      <td>2</td>\n",
              "      <td>2</td>\n",
              "      <td>2</td>\n",
              "      <td>3</td>\n",
              "      <td>2</td>\n",
              "      <td>4</td>\n",
              "      <td>3</td>\n",
              "      <td>0</td>\n",
              "      <td>0</td>\n",
              "      <td>0</td>\n",
              "      <td>1</td>\n",
              "      <td>1</td>\n",
              "      <td>2</td>\n",
              "      <td>6</td>\n",
              "      <td>165</td>\n",
              "      <td>1</td>\n",
              "      <td>3</td>\n",
              "      <td>2</td>\n",
              "      <td>4</td>\n",
              "      <td>3</td>\n",
              "      <td>3</td>\n",
              "      <td>4</td>\n",
              "      <td>3</td>\n",
              "      <td>4</td>\n",
              "      <td>2</td>\n",
              "      <td>3</td>\n",
              "      <td>2</td>\n",
              "      <td>2</td>\n",
              "      <td>3</td>\n",
              "      <td>2</td>\n",
              "      <td>1</td>\n",
              "      <td>1</td>\n",
              "      <td>1</td>\n",
              "      <td>3</td>\n",
              "      <td>3</td>\n",
              "      <td>3</td>\n",
              "      <td>3</td>\n",
              "      <td>3</td>\n",
              "      <td>2</td>\n",
              "      <td>3</td>\n",
              "      <td>3</td>\n",
              "      <td>3</td>\n",
              "      <td>2</td>\n",
              "      <td>2</td>\n",
              "      <td>2</td>\n",
              "      <td>4</td>\n",
              "    </tr>\n",
              "    <tr>\n",
              "      <th>2</th>\n",
              "      <td>0</td>\n",
              "      <td>4</td>\n",
              "      <td>4</td>\n",
              "      <td>1</td>\n",
              "      <td>1</td>\n",
              "      <td>4</td>\n",
              "      <td>3</td>\n",
              "      <td>4</td>\n",
              "      <td>4</td>\n",
              "      <td>3</td>\n",
              "      <td>4</td>\n",
              "      <td>5</td>\n",
              "      <td>1</td>\n",
              "      <td>1</td>\n",
              "      <td>3</td>\n",
              "      <td>3</td>\n",
              "      <td>2</td>\n",
              "      <td>3</td>\n",
              "      <td>2</td>\n",
              "      <td>2</td>\n",
              "      <td>1</td>\n",
              "      <td>1</td>\n",
              "      <td>1</td>\n",
              "      <td>2</td>\n",
              "      <td>1</td>\n",
              "      <td>2</td>\n",
              "      <td>3</td>\n",
              "      <td>4</td>\n",
              "      <td>0</td>\n",
              "      <td>1</td>\n",
              "      <td>0</td>\n",
              "      <td>1</td>\n",
              "      <td>1</td>\n",
              "      <td>2</td>\n",
              "      <td>3</td>\n",
              "      <td>163</td>\n",
              "      <td>6</td>\n",
              "      <td>4</td>\n",
              "      <td>3</td>\n",
              "      <td>2</td>\n",
              "      <td>3</td>\n",
              "      <td>3</td>\n",
              "      <td>4</td>\n",
              "      <td>3</td>\n",
              "      <td>2</td>\n",
              "      <td>2</td>\n",
              "      <td>2</td>\n",
              "      <td>1</td>\n",
              "      <td>1</td>\n",
              "      <td>1</td>\n",
              "      <td>3</td>\n",
              "      <td>1</td>\n",
              "      <td>2</td>\n",
              "      <td>1</td>\n",
              "      <td>1</td>\n",
              "      <td>2</td>\n",
              "      <td>3</td>\n",
              "      <td>2</td>\n",
              "      <td>2</td>\n",
              "      <td>2</td>\n",
              "      <td>3</td>\n",
              "      <td>2</td>\n",
              "      <td>2</td>\n",
              "      <td>2</td>\n",
              "      <td>1</td>\n",
              "      <td>3</td>\n",
              "      <td>3</td>\n",
              "    </tr>\n",
              "    <tr>\n",
              "      <th>3</th>\n",
              "      <td>0</td>\n",
              "      <td>4</td>\n",
              "      <td>4</td>\n",
              "      <td>1</td>\n",
              "      <td>1</td>\n",
              "      <td>3</td>\n",
              "      <td>2</td>\n",
              "      <td>6</td>\n",
              "      <td>7</td>\n",
              "      <td>6</td>\n",
              "      <td>2</td>\n",
              "      <td>5</td>\n",
              "      <td>3</td>\n",
              "      <td>4</td>\n",
              "      <td>3</td>\n",
              "      <td>1</td>\n",
              "      <td>1</td>\n",
              "      <td>2</td>\n",
              "      <td>3</td>\n",
              "      <td>2</td>\n",
              "      <td>2</td>\n",
              "      <td>1</td>\n",
              "      <td>1</td>\n",
              "      <td>4</td>\n",
              "      <td>2</td>\n",
              "      <td>1</td>\n",
              "      <td>1</td>\n",
              "      <td>1</td>\n",
              "      <td>0</td>\n",
              "      <td>1</td>\n",
              "      <td>1</td>\n",
              "      <td>1</td>\n",
              "      <td>1</td>\n",
              "      <td>1</td>\n",
              "      <td>0</td>\n",
              "      <td>168</td>\n",
              "      <td>1</td>\n",
              "      <td>3</td>\n",
              "      <td>1</td>\n",
              "      <td>4</td>\n",
              "      <td>3</td>\n",
              "      <td>4</td>\n",
              "      <td>3</td>\n",
              "      <td>4</td>\n",
              "      <td>3</td>\n",
              "      <td>3</td>\n",
              "      <td>3</td>\n",
              "      <td>2</td>\n",
              "      <td>1</td>\n",
              "      <td>4</td>\n",
              "      <td>1</td>\n",
              "      <td>2</td>\n",
              "      <td>3</td>\n",
              "      <td>1</td>\n",
              "      <td>2</td>\n",
              "      <td>2</td>\n",
              "      <td>1</td>\n",
              "      <td>3</td>\n",
              "      <td>2</td>\n",
              "      <td>3</td>\n",
              "      <td>3</td>\n",
              "      <td>2</td>\n",
              "      <td>3</td>\n",
              "      <td>3</td>\n",
              "      <td>2</td>\n",
              "      <td>3</td>\n",
              "      <td>4</td>\n",
              "    </tr>\n",
              "    <tr>\n",
              "      <th>4</th>\n",
              "      <td>50</td>\n",
              "      <td>3</td>\n",
              "      <td>3</td>\n",
              "      <td>1</td>\n",
              "      <td>1</td>\n",
              "      <td>3</td>\n",
              "      <td>1</td>\n",
              "      <td>4</td>\n",
              "      <td>5</td>\n",
              "      <td>2</td>\n",
              "      <td>2</td>\n",
              "      <td>1</td>\n",
              "      <td>3</td>\n",
              "      <td>3</td>\n",
              "      <td>3</td>\n",
              "      <td>1</td>\n",
              "      <td>2</td>\n",
              "      <td>2</td>\n",
              "      <td>3</td>\n",
              "      <td>2</td>\n",
              "      <td>3</td>\n",
              "      <td>2</td>\n",
              "      <td>3</td>\n",
              "      <td>1</td>\n",
              "      <td>3</td>\n",
              "      <td>3</td>\n",
              "      <td>3</td>\n",
              "      <td>2</td>\n",
              "      <td>0</td>\n",
              "      <td>0</td>\n",
              "      <td>0</td>\n",
              "      <td>1</td>\n",
              "      <td>1</td>\n",
              "      <td>2</td>\n",
              "      <td>2</td>\n",
              "      <td>158</td>\n",
              "      <td>2</td>\n",
              "      <td>3</td>\n",
              "      <td>3</td>\n",
              "      <td>2</td>\n",
              "      <td>3</td>\n",
              "      <td>2</td>\n",
              "      <td>3</td>\n",
              "      <td>2</td>\n",
              "      <td>2</td>\n",
              "      <td>2</td>\n",
              "      <td>3</td>\n",
              "      <td>2</td>\n",
              "      <td>3</td>\n",
              "      <td>2</td>\n",
              "      <td>2</td>\n",
              "      <td>2</td>\n",
              "      <td>2</td>\n",
              "      <td>1</td>\n",
              "      <td>3</td>\n",
              "      <td>2</td>\n",
              "      <td>2</td>\n",
              "      <td>2</td>\n",
              "      <td>3</td>\n",
              "      <td>2</td>\n",
              "      <td>3</td>\n",
              "      <td>2</td>\n",
              "      <td>2</td>\n",
              "      <td>2</td>\n",
              "      <td>3</td>\n",
              "      <td>3</td>\n",
              "      <td>3</td>\n",
              "    </tr>\n",
              "  </tbody>\n",
              "</table>\n",
              "</div>"
            ],
            "text/plain": [
              "   YTIM1B02w2  YTIM1C02w2  YTIM1D02w2  ...  YFAM2F04w2  PPSY1A02w2  PPHY1A00w2\n",
              "0           0           3           3  ...           3           4           3\n",
              "1           0           3           5  ...           2           2           4\n",
              "2           0           4           4  ...           1           3           3\n",
              "3           0           4           4  ...           2           3           4\n",
              "4          50           3           3  ...           3           3           3\n",
              "\n",
              "[5 rows x 67 columns]"
            ]
          },
          "metadata": {
            "tags": []
          },
          "execution_count": 6
        }
      ]
    },
    {
      "cell_type": "markdown",
      "metadata": {
        "id": "usacjpVviF5a"
      },
      "source": [
        "__표준화__(랜포에선 하나마나)"
      ]
    },
    {
      "cell_type": "code",
      "metadata": {
        "id": "-vNqPzloctTS"
      },
      "source": [
        "from sklearn.preprocessing import StandardScaler\r\n",
        "\r\n",
        "std_scaler = StandardScaler()\r\n",
        "X_train_scaled = std_scaler.fit_transform(X_train)\r\n",
        "X_test_scaled = std_scaler.transform(X_test)"
      ],
      "execution_count": 7,
      "outputs": []
    },
    {
      "cell_type": "markdown",
      "metadata": {
        "id": "rBZI8ON-m4Kf"
      },
      "source": [
        "## 랜포"
      ]
    },
    {
      "cell_type": "code",
      "metadata": {
        "colab": {
          "base_uri": "https://localhost:8080/"
        },
        "id": "hk198XvekDcV",
        "outputId": "a255523e-a679-4da4-8dab-988a75b0a88e"
      },
      "source": [
        "from sklearn.model_selection import GridSearchCV\r\n",
        "from sklearn.ensemble import RandomForestClassifier\r\n",
        "from sklearn.model_selection import RandomizedSearchCV\r\n",
        "from sklearn.metrics import roc_auc_score\r\n",
        "\r\n",
        "param_rfc = {'bootstrap': [True, False],\r\n",
        "             'max_depth': [10, 20, 30, 50, 70, None],\r\n",
        "             'max_features': ['auto', 'sqrt'],\r\n",
        "             'min_samples_leaf': [1, 2, 4, 6],\r\n",
        "             'min_samples_split': [2, 4, 6],\r\n",
        "             'n_estimators': [100, 150, 200, 250, 300, 400, 500, 600, 800, 1000]\r\n",
        "}\r\n",
        "\r\n",
        "rfc = RandomForestClassifier(n_jobs=-1, random_state=64)\r\n",
        "rnd_search_rfc = RandomizedSearchCV(rfc, param_rfc, n_iter=64, cv=5, \r\n",
        "                           scoring=\"roc_auc\", random_state=42,\r\n",
        "                           return_train_score=True)\r\n",
        "rnd_search_rfc.fit(X_train_scaled, y_train)"
      ],
      "execution_count": 17,
      "outputs": [
        {
          "output_type": "execute_result",
          "data": {
            "text/plain": [
              "RandomizedSearchCV(cv=5, error_score=nan,\n",
              "                   estimator=RandomForestClassifier(bootstrap=True,\n",
              "                                                    ccp_alpha=0.0,\n",
              "                                                    class_weight=None,\n",
              "                                                    criterion='gini',\n",
              "                                                    max_depth=None,\n",
              "                                                    max_features='auto',\n",
              "                                                    max_leaf_nodes=None,\n",
              "                                                    max_samples=None,\n",
              "                                                    min_impurity_decrease=0.0,\n",
              "                                                    min_impurity_split=None,\n",
              "                                                    min_samples_leaf=1,\n",
              "                                                    min_samples_split=2,\n",
              "                                                    min_weight_fraction_leaf=0.0,\n",
              "                                                    n_estimators=100, n_jobs...\n",
              "                   iid='deprecated', n_iter=64, n_jobs=None,\n",
              "                   param_distributions={'bootstrap': [True, False],\n",
              "                                        'max_depth': [10, 20, 30, 50, 70, None],\n",
              "                                        'max_features': ['auto', 'sqrt'],\n",
              "                                        'min_samples_leaf': [1, 2, 4, 6],\n",
              "                                        'min_samples_split': [2, 4, 6],\n",
              "                                        'n_estimators': [100, 150, 200, 250,\n",
              "                                                         300, 400, 500, 600,\n",
              "                                                         800, 1000]},\n",
              "                   pre_dispatch='2*n_jobs', random_state=42, refit=True,\n",
              "                   return_train_score=True, scoring='roc_auc', verbose=0)"
            ]
          },
          "metadata": {
            "tags": []
          },
          "execution_count": 17
        }
      ]
    },
    {
      "cell_type": "code",
      "metadata": {
        "colab": {
          "base_uri": "https://localhost:8080/"
        },
        "id": "zAyZTb7Cbruf",
        "outputId": "ac2e5b02-8900-4395-b8b6-c6a8d0aca731"
      },
      "source": [
        "rnd_search_rfc.best_params_"
      ],
      "execution_count": 18,
      "outputs": [
        {
          "output_type": "execute_result",
          "data": {
            "text/plain": [
              "{'bootstrap': True,\n",
              " 'max_depth': 50,\n",
              " 'max_features': 'auto',\n",
              " 'min_samples_leaf': 2,\n",
              " 'min_samples_split': 4,\n",
              " 'n_estimators': 600}"
            ]
          },
          "metadata": {
            "tags": []
          },
          "execution_count": 18
        }
      ]
    },
    {
      "cell_type": "code",
      "metadata": {
        "id": "8PJOXwGRb8s8"
      },
      "source": [
        "from sklearn.metrics import roc_curve\r\n",
        "\r\n",
        "pred_rf_proba = rnd_search_rfc.best_estimator_.predict_proba(X_test_scaled)[:,1]\r\n",
        "fpr, tpr, thr = roc_curve(y_test, pred_rf_proba)"
      ],
      "execution_count": 19,
      "outputs": []
    },
    {
      "cell_type": "code",
      "metadata": {
        "colab": {
          "base_uri": "https://localhost:8080/",
          "height": 284
        },
        "id": "MLWRZRfacRIl",
        "outputId": "bb988c45-d90c-49b5-f7d9-ca58ce7d978d"
      },
      "source": [
        "def plot_roc_curve(fpr, tpr, label=None):\r\n",
        "    plt.plot(fpr, tpr, linewidth=2, label=label)\r\n",
        "    plt.plot([0,1], [0,1], 'k--')\r\n",
        "                          \r\n",
        "    plt.xlabel('False Positive Rate', fontsize=16)\r\n",
        "    plt.ylabel('True Positive Rate', fontsize=16)     \r\n",
        "    plt.grid(True)                                   \r\n",
        "\r\n",
        "\r\n",
        "plot_roc_curve(fpr, tpr)"
      ],
      "execution_count": 22,
      "outputs": [
        {
          "output_type": "display_data",
          "data": {
            "image/png": "[encoded data removed]",
            "text/plain": [
              "<Figure size 432x288 with 1 Axes>"
            ]
          },
          "metadata": {
            "tags": [],
            "needs_background": "light"
          }
        }
      ]
    },
    {
      "cell_type": "code",
      "metadata": {
        "colab": {
          "base_uri": "https://localhost:8080/"
        },
        "id": "ZPxy_wPNniix",
        "outputId": "724c47c4-a224-4389-f4b0-de093ca6af75"
      },
      "source": [
        "from sklearn.metrics import roc_auc_score\r\n",
        "roc_auc_score(y_test, pred_rf_proba)"
      ],
      "execution_count": 21,
      "outputs": [
        {
          "output_type": "execute_result",
          "data": {
            "text/plain": [
              "0.8355368589743589"
            ]
          },
          "metadata": {
            "tags": []
          },
          "execution_count": 21
        }
      ]
    },
    {
      "cell_type": "markdown",
      "metadata": {
        "id": "rG2le8HsEJ2Y"
      },
      "source": [
        "## SVM"
      ]
    },
    {
      "cell_type": "code",
      "metadata": {
        "colab": {
          "base_uri": "https://localhost:8080/"
        },
        "id": "3KOBr96HNUYB",
        "outputId": "267b8897-2caf-4044-aad4-041ea0b33637"
      },
      "source": [
        "# Installing the most recent version of skopt directly from Github\r\n",
        "!pip install git+https://github.com/scikit-optimize/scikit-optimize.git"
      ],
      "execution_count": 2,
      "outputs": [
        {
          "output_type": "stream",
          "text": [
            "Collecting git+https://github.com/scikit-optimize/scikit-optimize.git\n",
            "  Cloning https://github.com/scikit-optimize/scikit-optimize.git to /tmp/pip-req-build-q08rkg84\n",
            "  Running command git clone -q https://github.com/scikit-optimize/scikit-optimize.git /tmp/pip-req-build-q08rkg84\n",
            "  Installing build dependencies ... \u001b[?25l\u001b[?25hdone\n",
            "  Getting requirements to build wheel ... \u001b[?25l\u001b[?25hdone\n",
            "    Preparing wheel metadata ... \u001b[?25l\u001b[?25hdone\n",
            "Requirement already satisfied: numpy>=1.13.3 in /usr/local/lib/python3.6/dist-packages (from scikit-optimize==0.9.dev0) (1.19.5)\n",
            "Requirement already satisfied: scipy>=0.19.1 in /usr/local/lib/python3.6/dist-packages (from scikit-optimize==0.9.dev0) (1.4.1)\n",
            "Requirement already satisfied: joblib>=0.11 in /usr/local/lib/python3.6/dist-packages (from scikit-optimize==0.9.dev0) (1.0.0)\n",
            "Requirement already satisfied: scikit-learn>=0.20.0 in /usr/local/lib/python3.6/dist-packages (from scikit-optimize==0.9.dev0) (0.22.2.post1)\n",
            "Collecting pyaml>=16.9\n",
            "  Using cached https://files.pythonhosted.org/packages/15/c4/1310a054d33abc318426a956e7d6df0df76a6ddfa9c66f6310274fb75d42/pyaml-20.4.0-py2.py3-none-any.whl\n",
            "Requirement already satisfied: PyYAML in /usr/local/lib/python3.6/dist-packages (from pyaml>=16.9->scikit-optimize==0.9.dev0) (3.13)\n",
            "Building wheels for collected packages: scikit-optimize\n",
            "  Building wheel for scikit-optimize (PEP 517) ... \u001b[?25l\u001b[?25hdone\n",
            "  Created wheel for scikit-optimize: filename=scikit_optimize-0.9.dev0-cp36-none-any.whl size=102003 sha256=b90a4a59720fba331dba7544074aa2a9f9b79a3ecd1bb6b056b480fa19908747\n",
            "  Stored in directory: /tmp/pip-ephem-wheel-cache-wncm2nl4/wheels/11/6f/86/2b772172db85ad0b4487d67e325e535ee8e7782b2a1dfcadf5\n",
            "Successfully built scikit-optimize\n",
            "Installing collected packages: pyaml, scikit-optimize\n",
            "Successfully installed pyaml-20.4.0 scikit-optimize-0.9.dev0\n"
          ],
          "name": "stdout"
        }
      ]
    },
    {
      "cell_type": "code",
      "metadata": {
        "colab": {
          "base_uri": "https://localhost:8080/"
        },
        "id": "ltFtJaS-NWZy",
        "outputId": "659872fc-8238-454c-af33-9e6062aa5029"
      },
      "source": [
        "# Assuring you have the most recent CatBoost release\r\n",
        "!pip install catboost -U"
      ],
      "execution_count": 3,
      "outputs": [
        {
          "output_type": "stream",
          "text": [
            "Collecting catboost\n",
            "\u001b[?25l  Downloading https://files.pythonhosted.org/packages/20/37/bc4e0ddc30c07a96482abf1de7ed1ca54e59bba2026a33bca6d2ef286e5b/catboost-0.24.4-cp36-none-manylinux1_x86_64.whl (65.7MB)\n",
            "\u001b[K     |████████████████████████████████| 65.8MB 59kB/s \n",
            "\u001b[?25hRequirement already satisfied, skipping upgrade: graphviz in /usr/local/lib/python3.6/dist-packages (from catboost) (0.10.1)\n",
            "Requirement already satisfied, skipping upgrade: plotly in /usr/local/lib/python3.6/dist-packages (from catboost) (4.4.1)\n",
            "Requirement already satisfied, skipping upgrade: scipy in /usr/local/lib/python3.6/dist-packages (from catboost) (1.4.1)\n",
            "Requirement already satisfied, skipping upgrade: numpy>=1.16.0 in /usr/local/lib/python3.6/dist-packages (from catboost) (1.19.5)\n",
            "Requirement already satisfied, skipping upgrade: six in /usr/local/lib/python3.6/dist-packages (from catboost) (1.15.0)\n",
            "Requirement already satisfied, skipping upgrade: matplotlib in /usr/local/lib/python3.6/dist-packages (from catboost) (3.2.2)\n",
            "Requirement already satisfied, skipping upgrade: pandas>=0.24.0 in /usr/local/lib/python3.6/dist-packages (from catboost) (1.1.5)\n",
            "Requirement already satisfied, skipping upgrade: retrying>=1.3.3 in /usr/local/lib/python3.6/dist-packages (from plotly->catboost) (1.3.3)\n",
            "Requirement already satisfied, skipping upgrade: cycler>=0.10 in /usr/local/lib/python3.6/dist-packages (from matplotlib->catboost) (0.10.0)\n",
            "Requirement already satisfied, skipping upgrade: python-dateutil>=2.1 in /usr/local/lib/python3.6/dist-packages (from matplotlib->catboost) (2.8.1)\n",
            "Requirement already satisfied, skipping upgrade: pyparsing!=2.0.4,!=2.1.2,!=2.1.6,>=2.0.1 in /usr/local/lib/python3.6/dist-packages (from matplotlib->catboost) (2.4.7)\n",
            "Requirement already satisfied, skipping upgrade: kiwisolver>=1.0.1 in /usr/local/lib/python3.6/dist-packages (from matplotlib->catboost) (1.3.1)\n",
            "Requirement already satisfied, skipping upgrade: pytz>=2017.2 in /usr/local/lib/python3.6/dist-packages (from pandas>=0.24.0->catboost) (2018.9)\n",
            "Installing collected packages: catboost\n",
            "Successfully installed catboost-0.24.4\n"
          ],
          "name": "stdout"
        }
      ]
    },
    {
      "cell_type": "markdown",
      "metadata": {
        "id": "kfSTjTERsWvi"
      },
      "source": [
        ""
      ]
    },
    {
      "cell_type": "code",
      "metadata": {
        "colab": {
          "base_uri": "https://localhost:8080/"
        },
        "id": "E4PT2mKCe8wn",
        "outputId": "ae57793e-6857-4573-aa33-d0e98818f597"
      },
      "source": [
        "from sklearn.model_selection import RandomizedSearchCV\r\n",
        "from skopt import BayesSearchCV\r\n",
        "from sklearn.svm import SVC\r\n",
        "\r\n",
        "param_svm ={\r\n",
        "        'C': (1e-6, 1e+6, 'log-uniform'),\r\n",
        "        'gamma': (1e-6, 1e+1, 'log-uniform'),\r\n",
        "        'degree': (1, 8),  \r\n",
        "        'kernel': ['linear', 'poly', 'rbf']\r\n",
        "}\r\n",
        "svc = SVC(probability=True, random_state=42)\r\n",
        "\r\n",
        "rnd_search_svc = BayesSearchCV(svc, param_svm, n_iter=3, cv=5,\r\n",
        "                                   scoring=\"roc_auc\", random_state=42,\r\n",
        "                                   return_train_score=True) # n_iter는 파라미터공간에서 선택할(반복할) 파라미터 수\r\n",
        "rnd_search_svc.fit(X_train_scaled, y_train)"
      ],
      "execution_count": 8,
      "outputs": [
        {
          "output_type": "execute_result",
          "data": {
            "text/plain": [
              "BayesSearchCV(cv=5, error_score='raise',\n",
              "              estimator=SVC(C=1.0, break_ties=False, cache_size=200,\n",
              "                            class_weight=None, coef0=0.0,\n",
              "                            decision_function_shape='ovr', degree=3,\n",
              "                            gamma='scale', kernel='rbf', max_iter=-1,\n",
              "                            probability=True, random_state=42, shrinking=True,\n",
              "                            tol=0.001, verbose=False),\n",
              "              fit_params=None, iid=True, n_iter=3, n_jobs=1, n_points=1,\n",
              "              optimizer_kwargs=None, pre_dispatch='2*n_jobs', random_state=42,\n",
              "              refit=True, return_train_score=True, scoring='roc_auc',\n",
              "              search_spaces={'C': (1e-06, 1000000.0, 'log-uniform'),\n",
              "                             'degree': (1, 8),\n",
              "                             'gamma': (1e-06, 10.0, 'log-uniform'),\n",
              "                             'kernel': ['linear', 'poly', 'rbf']},\n",
              "              verbose=0)"
            ]
          },
          "metadata": {
            "tags": []
          },
          "execution_count": 8
        }
      ]
    },
    {
      "cell_type": "code",
      "metadata": {
        "colab": {
          "base_uri": "https://localhost:8080/"
        },
        "id": "YHGysgm1lU43",
        "outputId": "5b7e805a-092a-44ce-b890-9847f43bd4e3"
      },
      "source": [
        "rnd_search_svc.best_params_"
      ],
      "execution_count": 9,
      "outputs": [
        {
          "output_type": "execute_result",
          "data": {
            "text/plain": [
              "OrderedDict([('C', 11185.625288472094),\n",
              "             ('degree', 7),\n",
              "             ('gamma', 0.00013300585802877296),\n",
              "             ('kernel', 'rbf')])"
            ]
          },
          "metadata": {
            "tags": []
          },
          "execution_count": 9
        }
      ]
    },
    {
      "cell_type": "code",
      "metadata": {
        "colab": {
          "base_uri": "https://localhost:8080/",
          "height": 284
        },
        "id": "0yOXZJNpTRjl",
        "outputId": "40596fea-9fe3-45c7-aae3-12abb0ff59d7"
      },
      "source": [
        "from sklearn.metrics import roc_auc_score\r\n",
        "from sklearn.metrics import roc_curve\r\n",
        "\r\n",
        "def plot_roc_curve(fpr, tpr, label=None):\r\n",
        "    plt.plot(fpr, tpr, linewidth=2, label=label)\r\n",
        "    plt.plot([0,1], [0,1], 'k--')\r\n",
        "                          \r\n",
        "    plt.xlabel('False Positive Rate', fontsize=16)\r\n",
        "    plt.ylabel('True Positive Rate', fontsize=16)     \r\n",
        "    plt.grid(True)      \r\n",
        "\r\n",
        "pred_svc_proba = rnd_search_svc.best_estimator_.predict_proba(X_test_scaled)[:,1]\r\n",
        "\r\n",
        "fpr, tpr, thr = roc_curve(y_test, pred_svc_proba)\r\n",
        "plot_roc_curve(fpr, tpr)"
      ],
      "execution_count": 10,
      "outputs": [
        {
          "output_type": "display_data",
          "data": {
            "image/png": "[encoded data removed]",
            "text/plain": [
              "<Figure size 432x288 with 1 Axes>"
            ]
          },
          "metadata": {
            "tags": [],
            "needs_background": "light"
          }
        }
      ]
    },
    {
      "cell_type": "code",
      "metadata": {
        "colab": {
          "base_uri": "https://localhost:8080/"
        },
        "id": "1xl6qsndX8Fi",
        "outputId": "5929d508-e91e-4bcf-d6d1-ff639899c665"
      },
      "source": [
        "from sklearn.metrics import roc_auc_score\r\n",
        "roc_auc_score(y_test, pred_svc_proba)"
      ],
      "execution_count": 11,
      "outputs": [
        {
          "output_type": "execute_result",
          "data": {
            "text/plain": [
              "0.7812166132478632"
            ]
          },
          "metadata": {
            "tags": []
          },
          "execution_count": 11
        }
      ]
    },
    {
      "cell_type": "code",
      "metadata": {
        "id": "qSLcmPobYP25"
      },
      "source": [
        ""
      ],
      "execution_count": null,
      "outputs": []
    }
  ]
}