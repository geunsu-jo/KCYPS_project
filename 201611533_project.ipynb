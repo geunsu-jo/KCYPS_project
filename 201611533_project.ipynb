{
  "nbformat": 4,
  "nbformat_minor": 0,
  "metadata": {
    "colab": {
      "name": "201611533_project.ipynb",
      "provenance": [],
      "collapsed_sections": [],
      "mount_file_id": "1oE66Prgz4w2ojbPgH7BCq4j1HOxVv8Up",
      "authorship_tag": "ABX9TyOp9PeLhlVVhcbMwB9bbYro",
      "include_colab_link": true
    },
    "kernelspec": {
      "name": "python3",
      "display_name": "Python 3"
    }
  },
  "cells": [
    {
      "cell_type": "markdown",
      "metadata": {
        "id": "view-in-github",
        "colab_type": "text"
      },
      "source": [
        "<a href=\"https://colab.research.google.com/github/geunsu-jo/KCYPS_project/blob/main/201611533_project.ipynb\" target=\"_parent\"><img src=\"https://colab.research.google.com/assets/colab-badge.svg\" alt=\"Open In Colab\"/></a>"
      ]
    },
    {
      "cell_type": "markdown",
      "metadata": {
        "id": "ACQLtIYqLYnr"
      },
      "source": [
        "## SMOTE & Scaling"
      ]
    },
    {
      "cell_type": "code",
      "metadata": {
        "id": "qOZtmyeHnNes"
      },
      "source": [
        "import numpy as np\r\n",
        "import pandas as pd"
      ],
      "execution_count": 1,
      "outputs": []
    },
    {
      "cell_type": "code",
      "metadata": {
        "id": "rGKnKOaonPCq"
      },
      "source": [
        "train_data = pd.read_excel(\"/content/drive/MyDrive/Colab Notebooks/train_data.xlsx\")\r\n",
        "test_data = pd.read_excel(\"/content/drive/MyDrive/Colab Notebooks/test_data.xlsx\")"
      ],
      "execution_count": 2,
      "outputs": []
    },
    {
      "cell_type": "code",
      "metadata": {
        "colab": {
          "base_uri": "https://localhost:8080/"
        },
        "id": "UpmWeZamnslX",
        "outputId": "b56bd63f-2cb9-4233-81f2-d8d434c47393"
      },
      "source": [
        "train_data.shape, test_data.shape"
      ],
      "execution_count": 3,
      "outputs": [
        {
          "output_type": "execute_result",
          "data": {
            "text/plain": [
              "((1950, 114), (488, 114))"
            ]
          },
          "metadata": {
            "tags": []
          },
          "execution_count": 3
        }
      ]
    },
    {
      "cell_type": "markdown",
      "metadata": {
        "id": "IDLL0j8_ccGj"
      },
      "source": [
        "__target__ 데이터 생성"
      ]
    },
    {
      "cell_type": "code",
      "metadata": {
        "id": "k5qGWSK5nyy0"
      },
      "source": [
        "y_train_raw = train_data[\"y\"]\r\n",
        "y_test = test_data[\"y\"]"
      ],
      "execution_count": 4,
      "outputs": []
    },
    {
      "cell_type": "markdown",
      "metadata": {
        "id": "gNFG7Qt1ceQJ"
      },
      "source": [
        "__feature__데이터 생성"
      ]
    },
    {
      "cell_type": "code",
      "metadata": {
        "colab": {
          "base_uri": "https://localhost:8080/",
          "height": 185
        },
        "id": "msK-KLJCn1Ke",
        "outputId": "ca5c2c3a-0140-4540-d013-597235032dda"
      },
      "source": [
        "X_train_raw = train_data.drop(['y'], axis=1)\r\n",
        "X_test = test_data.drop(['y'], axis=1)\r\n",
        "X_train_raw.head(3)"
      ],
      "execution_count": 5,
      "outputs": [
        {
          "output_type": "execute_result",
          "data": {
            "text/html": [
              "<div>\n",
              "<style scoped>\n",
              "    .dataframe tbody tr th:only-of-type {\n",
              "        vertical-align: middle;\n",
              "    }\n",
              "\n",
              "    .dataframe tbody tr th {\n",
              "        vertical-align: top;\n",
              "    }\n",
              "\n",
              "    .dataframe thead th {\n",
              "        text-align: right;\n",
              "    }\n",
              "</style>\n",
              "<table border=\"1\" class=\"dataframe\">\n",
              "  <thead>\n",
              "    <tr style=\"text-align: right;\">\n",
              "      <th></th>\n",
              "      <th>YTIM1A03w2</th>\n",
              "      <th>YTIM1C02w2</th>\n",
              "      <th>YTIM1D02w2</th>\n",
              "      <th>YTIM1H02w2</th>\n",
              "      <th>YTIM1I02w2</th>\n",
              "      <th>YTIM1K01w2</th>\n",
              "      <th>YTIM1K02w2</th>\n",
              "      <th>YTIM1L02w2</th>\n",
              "      <th>YTIM1N02w2</th>\n",
              "      <th>YINT1B00w2</th>\n",
              "      <th>YINT2A04w2</th>\n",
              "      <th>YINT2A08w2</th>\n",
              "      <th>YINT2A10w2</th>\n",
              "      <th>YINT2A14w2</th>\n",
              "      <th>YINT2A15w2</th>\n",
              "      <th>YINT2B01w2</th>\n",
              "      <th>YINT2B02w2</th>\n",
              "      <th>YINT2B05w2</th>\n",
              "      <th>YINT2B08w2</th>\n",
              "      <th>YINT2B09w2</th>\n",
              "      <th>YINT2B10w2</th>\n",
              "      <th>YINT2B11w2</th>\n",
              "      <th>YINT2B12w2</th>\n",
              "      <th>YINT2B13w2</th>\n",
              "      <th>YINT2B16w2</th>\n",
              "      <th>YFUR1A00w2</th>\n",
              "      <th>YFUR2A08w2</th>\n",
              "      <th>YPSY1A05w2</th>\n",
              "      <th>YPSY4A01w2</th>\n",
              "      <th>YPSY4A02w2</th>\n",
              "      <th>YPSY4A04w2</th>\n",
              "      <th>YPSY4A07w2</th>\n",
              "      <th>YPSY4B01w2</th>\n",
              "      <th>YPSY4B02w2</th>\n",
              "      <th>YPSY4B04w2</th>\n",
              "      <th>YPSY4B06w2</th>\n",
              "      <th>YPSY4C02w2</th>\n",
              "      <th>YPSY4C03w2</th>\n",
              "      <th>YPSY4C05w2</th>\n",
              "      <th>YPSY4C06w2</th>\n",
              "      <th>...</th>\n",
              "      <th>YACT3A00w2</th>\n",
              "      <th>YEDU1A00w2</th>\n",
              "      <th>YEDU2A01w2</th>\n",
              "      <th>YEDU2A03w2</th>\n",
              "      <th>YEDU2A04w2</th>\n",
              "      <th>YEDU2A07w2</th>\n",
              "      <th>YEDU2A08w2</th>\n",
              "      <th>YEDU2A09w2</th>\n",
              "      <th>YEDU2A11w2</th>\n",
              "      <th>YEDU3A01w2</th>\n",
              "      <th>YEDU3A06w2</th>\n",
              "      <th>YEDU3A07w2</th>\n",
              "      <th>YEDU3A10w2</th>\n",
              "      <th>YEDU3A12w2</th>\n",
              "      <th>YEDU3A14w2</th>\n",
              "      <th>YFAM2F02w2</th>\n",
              "      <th>YFAM2F04w2</th>\n",
              "      <th>PPSY1A02w2</th>\n",
              "      <th>PPSY1A05w2</th>\n",
              "      <th>PPSY2A02w2</th>\n",
              "      <th>PPSY2A03w2</th>\n",
              "      <th>PPSY2A04w2</th>\n",
              "      <th>PPSY3A01w2</th>\n",
              "      <th>PPSY3A02w2</th>\n",
              "      <th>PPSY3A03w2</th>\n",
              "      <th>PPSY3A05w2</th>\n",
              "      <th>PPSY3A06w2</th>\n",
              "      <th>PPSY4A04w2</th>\n",
              "      <th>PPSY4A08w2</th>\n",
              "      <th>PPSY4A24w2</th>\n",
              "      <th>PPSY4A26w2</th>\n",
              "      <th>PPSY4A28w2</th>\n",
              "      <th>PPSY4A29w2</th>\n",
              "      <th>PPSY4Ascw2</th>\n",
              "      <th>PPSY5A01w2</th>\n",
              "      <th>PPSY5A08w2</th>\n",
              "      <th>PPHY1A00w2</th>\n",
              "      <th>PPHY1B00w2</th>\n",
              "      <th>PPHY1C00w2</th>\n",
              "      <th>PPHY2B00w2</th>\n",
              "    </tr>\n",
              "  </thead>\n",
              "  <tbody>\n",
              "    <tr>\n",
              "      <th>0</th>\n",
              "      <td>10</td>\n",
              "      <td>3</td>\n",
              "      <td>3</td>\n",
              "      <td>4</td>\n",
              "      <td>2</td>\n",
              "      <td>4</td>\n",
              "      <td>5</td>\n",
              "      <td>2</td>\n",
              "      <td>4</td>\n",
              "      <td>3</td>\n",
              "      <td>2</td>\n",
              "      <td>2</td>\n",
              "      <td>2</td>\n",
              "      <td>2</td>\n",
              "      <td>3</td>\n",
              "      <td>2</td>\n",
              "      <td>2</td>\n",
              "      <td>3</td>\n",
              "      <td>2</td>\n",
              "      <td>3</td>\n",
              "      <td>2</td>\n",
              "      <td>2</td>\n",
              "      <td>2</td>\n",
              "      <td>2</td>\n",
              "      <td>2</td>\n",
              "      <td>5</td>\n",
              "      <td>8</td>\n",
              "      <td>2</td>\n",
              "      <td>2</td>\n",
              "      <td>2</td>\n",
              "      <td>2</td>\n",
              "      <td>2</td>\n",
              "      <td>2</td>\n",
              "      <td>2</td>\n",
              "      <td>2</td>\n",
              "      <td>2</td>\n",
              "      <td>2</td>\n",
              "      <td>2</td>\n",
              "      <td>2</td>\n",
              "      <td>3</td>\n",
              "      <td>...</td>\n",
              "      <td>1</td>\n",
              "      <td>4</td>\n",
              "      <td>3</td>\n",
              "      <td>2</td>\n",
              "      <td>2</td>\n",
              "      <td>3</td>\n",
              "      <td>3</td>\n",
              "      <td>2</td>\n",
              "      <td>2</td>\n",
              "      <td>2</td>\n",
              "      <td>2</td>\n",
              "      <td>3</td>\n",
              "      <td>2</td>\n",
              "      <td>2</td>\n",
              "      <td>3</td>\n",
              "      <td>2</td>\n",
              "      <td>3</td>\n",
              "      <td>4</td>\n",
              "      <td>2</td>\n",
              "      <td>4</td>\n",
              "      <td>3</td>\n",
              "      <td>1</td>\n",
              "      <td>3</td>\n",
              "      <td>1</td>\n",
              "      <td>3</td>\n",
              "      <td>1</td>\n",
              "      <td>1</td>\n",
              "      <td>0</td>\n",
              "      <td>0</td>\n",
              "      <td>1</td>\n",
              "      <td>1</td>\n",
              "      <td>0</td>\n",
              "      <td>1</td>\n",
              "      <td>4</td>\n",
              "      <td>2</td>\n",
              "      <td>2</td>\n",
              "      <td>3</td>\n",
              "      <td>2</td>\n",
              "      <td>7</td>\n",
              "      <td>83</td>\n",
              "    </tr>\n",
              "    <tr>\n",
              "      <th>1</th>\n",
              "      <td>10</td>\n",
              "      <td>3</td>\n",
              "      <td>5</td>\n",
              "      <td>5</td>\n",
              "      <td>5</td>\n",
              "      <td>6</td>\n",
              "      <td>6</td>\n",
              "      <td>6</td>\n",
              "      <td>6</td>\n",
              "      <td>3</td>\n",
              "      <td>3</td>\n",
              "      <td>2</td>\n",
              "      <td>2</td>\n",
              "      <td>3</td>\n",
              "      <td>3</td>\n",
              "      <td>2</td>\n",
              "      <td>1</td>\n",
              "      <td>2</td>\n",
              "      <td>2</td>\n",
              "      <td>2</td>\n",
              "      <td>2</td>\n",
              "      <td>2</td>\n",
              "      <td>1</td>\n",
              "      <td>2</td>\n",
              "      <td>2</td>\n",
              "      <td>3</td>\n",
              "      <td>8</td>\n",
              "      <td>2</td>\n",
              "      <td>2</td>\n",
              "      <td>2</td>\n",
              "      <td>2</td>\n",
              "      <td>2</td>\n",
              "      <td>1</td>\n",
              "      <td>2</td>\n",
              "      <td>2</td>\n",
              "      <td>1</td>\n",
              "      <td>2</td>\n",
              "      <td>2</td>\n",
              "      <td>3</td>\n",
              "      <td>3</td>\n",
              "      <td>...</td>\n",
              "      <td>2</td>\n",
              "      <td>4</td>\n",
              "      <td>3</td>\n",
              "      <td>3</td>\n",
              "      <td>4</td>\n",
              "      <td>4</td>\n",
              "      <td>3</td>\n",
              "      <td>3</td>\n",
              "      <td>3</td>\n",
              "      <td>3</td>\n",
              "      <td>2</td>\n",
              "      <td>3</td>\n",
              "      <td>3</td>\n",
              "      <td>2</td>\n",
              "      <td>3</td>\n",
              "      <td>3</td>\n",
              "      <td>2</td>\n",
              "      <td>2</td>\n",
              "      <td>2</td>\n",
              "      <td>4</td>\n",
              "      <td>3</td>\n",
              "      <td>2</td>\n",
              "      <td>3</td>\n",
              "      <td>2</td>\n",
              "      <td>3</td>\n",
              "      <td>3</td>\n",
              "      <td>2</td>\n",
              "      <td>0</td>\n",
              "      <td>0</td>\n",
              "      <td>0</td>\n",
              "      <td>0</td>\n",
              "      <td>1</td>\n",
              "      <td>0</td>\n",
              "      <td>-2</td>\n",
              "      <td>2</td>\n",
              "      <td>3</td>\n",
              "      <td>4</td>\n",
              "      <td>1</td>\n",
              "      <td>7</td>\n",
              "      <td>67</td>\n",
              "    </tr>\n",
              "    <tr>\n",
              "      <th>2</th>\n",
              "      <td>8</td>\n",
              "      <td>4</td>\n",
              "      <td>4</td>\n",
              "      <td>4</td>\n",
              "      <td>3</td>\n",
              "      <td>4</td>\n",
              "      <td>4</td>\n",
              "      <td>3</td>\n",
              "      <td>5</td>\n",
              "      <td>4</td>\n",
              "      <td>3</td>\n",
              "      <td>3</td>\n",
              "      <td>3</td>\n",
              "      <td>3</td>\n",
              "      <td>3</td>\n",
              "      <td>3</td>\n",
              "      <td>2</td>\n",
              "      <td>3</td>\n",
              "      <td>1</td>\n",
              "      <td>1</td>\n",
              "      <td>1</td>\n",
              "      <td>1</td>\n",
              "      <td>2</td>\n",
              "      <td>2</td>\n",
              "      <td>1</td>\n",
              "      <td>3</td>\n",
              "      <td>8</td>\n",
              "      <td>3</td>\n",
              "      <td>3</td>\n",
              "      <td>2</td>\n",
              "      <td>1</td>\n",
              "      <td>2</td>\n",
              "      <td>1</td>\n",
              "      <td>2</td>\n",
              "      <td>1</td>\n",
              "      <td>1</td>\n",
              "      <td>1</td>\n",
              "      <td>2</td>\n",
              "      <td>1</td>\n",
              "      <td>1</td>\n",
              "      <td>...</td>\n",
              "      <td>1</td>\n",
              "      <td>5</td>\n",
              "      <td>3</td>\n",
              "      <td>3</td>\n",
              "      <td>4</td>\n",
              "      <td>3</td>\n",
              "      <td>3</td>\n",
              "      <td>1</td>\n",
              "      <td>2</td>\n",
              "      <td>3</td>\n",
              "      <td>2</td>\n",
              "      <td>3</td>\n",
              "      <td>2</td>\n",
              "      <td>2</td>\n",
              "      <td>3</td>\n",
              "      <td>2</td>\n",
              "      <td>1</td>\n",
              "      <td>3</td>\n",
              "      <td>2</td>\n",
              "      <td>3</td>\n",
              "      <td>3</td>\n",
              "      <td>2</td>\n",
              "      <td>3</td>\n",
              "      <td>3</td>\n",
              "      <td>3</td>\n",
              "      <td>2</td>\n",
              "      <td>2</td>\n",
              "      <td>0</td>\n",
              "      <td>0</td>\n",
              "      <td>1</td>\n",
              "      <td>1</td>\n",
              "      <td>0</td>\n",
              "      <td>0</td>\n",
              "      <td>1</td>\n",
              "      <td>2</td>\n",
              "      <td>3</td>\n",
              "      <td>3</td>\n",
              "      <td>1</td>\n",
              "      <td>2</td>\n",
              "      <td>73</td>\n",
              "    </tr>\n",
              "  </tbody>\n",
              "</table>\n",
              "<p>3 rows × 113 columns</p>\n",
              "</div>"
            ],
            "text/plain": [
              "   YTIM1A03w2  YTIM1C02w2  YTIM1D02w2  ...  PPHY1B00w2  PPHY1C00w2  PPHY2B00w2\n",
              "0          10           3           3  ...           2           7          83\n",
              "1          10           3           5  ...           1           7          67\n",
              "2           8           4           4  ...           1           2          73\n",
              "\n",
              "[3 rows x 113 columns]"
            ]
          },
          "metadata": {
            "tags": []
          },
          "execution_count": 5
        }
      ]
    },
    {
      "cell_type": "markdown",
      "metadata": {
        "id": "gNtcAtmiiJj_"
      },
      "source": [
        "__훈련, 검증 세트 나누기__"
      ]
    },
    {
      "cell_type": "code",
      "metadata": {
        "id": "0otHvFSviQcO"
      },
      "source": [
        "from sklearn.model_selection import train_test_split\r\n",
        "\r\n",
        "X_train, X_valid, y_train, y_valid = train_test_split(X_train_raw, y_train_raw, random_state=42)"
      ],
      "execution_count": 6,
      "outputs": []
    },
    {
      "cell_type": "code",
      "metadata": {
        "colab": {
          "base_uri": "https://localhost:8080/",
          "height": 318
        },
        "id": "zw0yVcvSMGJv",
        "outputId": "965c599d-6d82-41bb-975e-4d630fbd5f2a"
      },
      "source": [
        "import matplotlib.pyplot as plt\r\n",
        "freq = y_train.value_counts()\r\n",
        "plt.bar(freq.index, freq)\r\n",
        "plt.xticks(freq.index.values)"
      ],
      "execution_count": 59,
      "outputs": [
        {
          "output_type": "execute_result",
          "data": {
            "text/plain": [
              "([<matplotlib.axis.XTick at 0x7f6f5d70cda0>,\n",
              "  <matplotlib.axis.XTick at 0x7f6f5d615a58>],\n",
              " <a list of 2 Text major ticklabel objects>)"
            ]
          },
          "metadata": {
            "tags": []
          },
          "execution_count": 59
        },
        {
          "output_type": "display_data",
          "data": {
            "image/png": "[encoded data removed]",
            "text/plain": [
              "<Figure size 432x288 with 1 Axes>"
            ]
          },
          "metadata": {
            "tags": [],
            "needs_background": "light"
          }
        }
      ]
    },
    {
      "cell_type": "markdown",
      "metadata": {
        "id": "HDEKeimxicSx"
      },
      "source": [
        "__SMOTE__"
      ]
    },
    {
      "cell_type": "code",
      "metadata": {
        "colab": {
          "base_uri": "https://localhost:8080/"
        },
        "id": "-vfJZmvPcaWr",
        "outputId": "5f7669a6-cca8-432c-82c0-7050d0e2258a"
      },
      "source": [
        "from imblearn.over_sampling import SMOTE\r\n",
        "smote = SMOTE(random_state=42)\r\n",
        "X_train_over,y_train_over = smote.fit_sample(X_train, y_train)\r\n",
        "print('SMOTE 적용 전 학습용 피처/레이블 데이터 세트: ', X_train.shape, y_train.shape)\r\n",
        "print('SMOTE 적용 후 학습용 피처/레이블 데이터 세트: ', X_train_over.shape, y_train_over.shape)\r\n",
        "print('SMOTE 적용 후 레이블 값 분포: \\n', pd.Series(y_train_over).value_counts())"
      ],
      "execution_count": 47,
      "outputs": [
        {
          "output_type": "stream",
          "text": [
            "SMOTE 적용 전 학습용 피처/레이블 데이터 세트:  (1462, 113) (1462,)\n",
            "SMOTE 적용 후 학습용 피처/레이블 데이터 세트:  (1998, 113) (1998,)\n",
            "SMOTE 적용 후 레이블 값 분포: \n",
            " 1    999\n",
            "0    999\n",
            "dtype: int64\n"
          ],
          "name": "stdout"
        },
        {
          "output_type": "stream",
          "text": [
            "/usr/local/lib/python3.6/dist-packages/sklearn/utils/deprecation.py:87: FutureWarning: Function safe_indexing is deprecated; safe_indexing is deprecated in version 0.22 and will be removed in version 0.24.\n",
            "  warnings.warn(msg, category=FutureWarning)\n"
          ],
          "name": "stderr"
        }
      ]
    },
    {
      "cell_type": "markdown",
      "metadata": {
        "id": "usacjpVviF5a"
      },
      "source": [
        "__표준화__"
      ]
    },
    {
      "cell_type": "code",
      "metadata": {
        "id": "-vNqPzloctTS"
      },
      "source": [
        "from sklearn.preprocessing import StandardScaler\r\n",
        "\r\n",
        "std_scaler = StandardScaler()\r\n",
        "X_train_scaled = std_scaler.fit_transform(X_train_over)\r\n",
        "X_valid_scaled = std_scaler.transform(X_valid)\r\n",
        "X_test_scaled = std_scaler.transform(X_test)"
      ],
      "execution_count": 8,
      "outputs": []
    },
    {
      "cell_type": "markdown",
      "metadata": {
        "id": "rBZI8ON-m4Kf"
      },
      "source": [
        "## 랜포"
      ]
    },
    {
      "cell_type": "code",
      "metadata": {
        "colab": {
          "base_uri": "https://localhost:8080/"
        },
        "id": "hk198XvekDcV",
        "outputId": "262f27d2-9a3e-4f7b-9270-60ccb2346f06"
      },
      "source": [
        "from sklearn.ensemble import RandomForestClassifier\r\n",
        "from sklearn.metrics import recall_score\r\n",
        "from sklearn.metrics import precision_score\r\n",
        "\r\n",
        "param_n = [300,350,400,450,500,550]\r\n",
        "rf_score = []\r\n",
        "for n in param_n:\r\n",
        "    rfc = RandomForestClassifier(n_jobs=-1, n_estimators=n, random_state=42)\r\n",
        "    rfc.fit(X_train_scaled, y_train_over)\r\n",
        "    y_pred = rfc.predict(X_valid_scaled)\r\n",
        "    rf_score.append(recall_score(y_valid, y_pred))\r\n",
        "\r\n",
        "rf_score"
      ],
      "execution_count": 25,
      "outputs": [
        {
          "output_type": "execute_result",
          "data": {
            "text/plain": [
              "[0.823170731707317,\n",
              " 0.8201219512195121,\n",
              " 0.8323170731707317,\n",
              " 0.8414634146341463,\n",
              " 0.8384146341463414,\n",
              " 0.8353658536585366]"
            ]
          },
          "metadata": {
            "tags": []
          },
          "execution_count": 25
        }
      ]
    },
    {
      "cell_type": "markdown",
      "metadata": {
        "id": "_04I8OZj2RqT"
      },
      "source": [
        "- n_estimators=450 일 때, recall이 최대"
      ]
    },
    {
      "cell_type": "code",
      "metadata": {
        "colab": {
          "base_uri": "https://localhost:8080/"
        },
        "id": "Jo08xnPyv-Wq",
        "outputId": "ed3afe13-7a5d-40ea-fb86-91c2744e3ff0"
      },
      "source": [
        "rfc_best = RandomForestClassifier(n_jobs=-1, n_estimators=450, random_state=42)\r\n",
        "rfc_best.fit(X_train_scaled, y_train_over)\r\n",
        "y_pred_rf = rfc_best.predict(X_test_scaled)\r\n",
        "recall_score(y_test, y_pred_rf), precision_score(y_test, y_pred_rf)"
      ],
      "execution_count": 26,
      "outputs": [
        {
          "output_type": "execute_result",
          "data": {
            "text/plain": [
              "(0.8533724340175953, 0.7718832891246684)"
            ]
          },
          "metadata": {
            "tags": []
          },
          "execution_count": 26
        }
      ]
    },
    {
      "cell_type": "markdown",
      "metadata": {
        "id": "9lZrWAI5kpEH"
      },
      "source": [
        "## 부스팅"
      ]
    },
    {
      "cell_type": "code",
      "metadata": {
        "colab": {
          "base_uri": "https://localhost:8080/"
        },
        "id": "aq2_zXvBm6uF",
        "outputId": "708b39a5-e814-4920-efd7-c386513aa019"
      },
      "source": [
        "from sklearn.ensemble import GradientBoostingClassifier\r\n",
        "from sklearn.metrics import recall_score\r\n",
        "\r\n",
        "gbrt = GradientBoostingClassifier(max_depth=2, n_estimators=1000, random_state=42)\r\n",
        "gbrt.fit(X_train_scaled, y_train_over)\r\n",
        "\r\n",
        "# n_estimators=200이므로, score의 길이는 200 \r\n",
        "# score는 재현율(recall)\r\n",
        "scores = [recall_score(y_valid, y_pred)\r\n",
        "          for y_pred in gbrt.staged_predict(X_valid_scaled)] \r\n",
        "\r\n",
        "bst_n_estimators = np.argmax(scores) + 1\r\n",
        "\r\n",
        "gbrt_best = GradientBoostingClassifier(max_depth=2, n_estimators=bst_n_estimators, random_state=42)\r\n",
        "gbrt_best.fit(X_train_scaled, y_train_over)"
      ],
      "execution_count": 27,
      "outputs": [
        {
          "output_type": "execute_result",
          "data": {
            "text/plain": [
              "GradientBoostingClassifier(ccp_alpha=0.0, criterion='friedman_mse', init=None,\n",
              "                           learning_rate=0.1, loss='deviance', max_depth=2,\n",
              "                           max_features=None, max_leaf_nodes=None,\n",
              "                           min_impurity_decrease=0.0, min_impurity_split=None,\n",
              "                           min_samples_leaf=1, min_samples_split=2,\n",
              "                           min_weight_fraction_leaf=0.0, n_estimators=293,\n",
              "                           n_iter_no_change=None, presort='deprecated',\n",
              "                           random_state=42, subsample=1.0, tol=0.0001,\n",
              "                           validation_fraction=0.1, verbose=0,\n",
              "                           warm_start=False)"
            ]
          },
          "metadata": {
            "tags": []
          },
          "execution_count": 27
        }
      ]
    },
    {
      "cell_type": "code",
      "metadata": {
        "colab": {
          "base_uri": "https://localhost:8080/"
        },
        "id": "MuSWaTROrqP6",
        "outputId": "1f782946-3f22-4cdf-8730-820f5f642580"
      },
      "source": [
        "max_score = np.max(scores)\r\n",
        "bst_n_estimators, max_score"
      ],
      "execution_count": 29,
      "outputs": [
        {
          "output_type": "execute_result",
          "data": {
            "text/plain": [
              "(293, 0.801829268292683)"
            ]
          },
          "metadata": {
            "tags": []
          },
          "execution_count": 29
        }
      ]
    },
    {
      "cell_type": "code",
      "metadata": {
        "colab": {
          "base_uri": "https://localhost:8080/",
          "height": 392
        },
        "id": "9ntGilTaruVc",
        "outputId": "6c635d6f-5186-4170-8574-6d018e7fc354"
      },
      "source": [
        "plt.figure(figsize=(20, 6))\r\n",
        "\r\n",
        "plt.subplot(121)\r\n",
        "plt.plot(scores, \"b.-\")\r\n",
        "plt.plot([bst_n_estimators, bst_n_estimators], [0, max_score], \"k--\")\r\n",
        "plt.plot([0, 1000], [max_score, max_score], \"k--\")\r\n",
        "plt.plot(bst_n_estimators, max_score, \"ko\")\r\n",
        "plt.text(bst_n_estimators, max_score*0.92, \"Maximum\", ha=\"center\", fontsize=14, color=\"red\")\r\n",
        "plt.text(bst_n_estimators, max_score*0.88, \"Recall\", ha=\"center\", fontsize=14, color=\"red\")"
      ],
      "execution_count": 30,
      "outputs": [
        {
          "output_type": "execute_result",
          "data": {
            "text/plain": [
              "Text(293, 0.705609756097561, 'Recall')"
            ]
          },
          "metadata": {
            "tags": []
          },
          "execution_count": 30
        },
        {
          "output_type": "display_data",
          "data": {
            "image/png": "[encoded data removed]",
            "text/plain": [
              "<Figure size 1440x432 with 1 Axes>"
            ]
          },
          "metadata": {
            "tags": [],
            "needs_background": "light"
          }
        }
      ]
    },
    {
      "cell_type": "code",
      "metadata": {
        "colab": {
          "base_uri": "https://localhost:8080/"
        },
        "id": "_bzcQporsMY9",
        "outputId": "80622043-f71c-4294-931b-3c7db5e646b8"
      },
      "source": [
        "y_pred_gb = gbrt_best.predict(X_test_scaled)\r\n",
        "recall_score(y_test, y_pred_gb), precision_score(y_test, y_pred_gb)"
      ],
      "execution_count": 31,
      "outputs": [
        {
          "output_type": "execute_result",
          "data": {
            "text/plain": [
              "(0.7741935483870968, 0.7833827893175074)"
            ]
          },
          "metadata": {
            "tags": []
          },
          "execution_count": 31
        }
      ]
    },
    {
      "cell_type": "markdown",
      "metadata": {
        "id": "vOTqthYzdHDv"
      },
      "source": [
        "## DNN"
      ]
    },
    {
      "cell_type": "code",
      "metadata": {
        "colab": {
          "base_uri": "https://localhost:8080/",
          "height": 35
        },
        "id": "QeuskIQGKvFt",
        "outputId": "305525ad-658d-42b3-8429-13f1e6c7a749"
      },
      "source": [
        "import tensorflow as tf\r\n",
        "from tensorflow import kerasm\r\n",
        "\r\n",
        "tf.__version__"
      ],
      "execution_count": 9,
      "outputs": [
        {
          "output_type": "execute_result",
          "data": {
            "application/vnd.google.colaboratory.intrinsic+json": {
              "type": "string"
            },
            "text/plain": [
              "'2.4.0'"
            ]
          },
          "metadata": {
            "tags": []
          },
          "execution_count": 9
        }
      ]
    },
    {
      "cell_type": "code",
      "metadata": {
        "id": "zDH_pUuItb5j"
      },
      "source": [
        "model = keras.models.Sequential([\r\n",
        "                                 keras.layers.Dense(30, activation=\"relu\", input_shape=X_train_scaled.shape[1:]),\r\n",
        "                                 keras.layers.BatchNormalization(),\r\n",
        "                                 keras.layers.Dense(30, activation=\"selu\", kernel_initializer=\"lecun_normal\"),\r\n",
        "                                 keras.layers.BatchNormalization(),\r\n",
        "                                 keras.layers.Dense(40, activation=\"selu\", kernel_initializer=\"lecun_normal\"),\r\n",
        "                                 keras.layers.BatchNormalization(),\r\n",
        "                                 keras.layers.Dense(1, activation=\"sigmoid\")\r\n",
        "])\r\n",
        "model.compile(loss=keras.losses.binary_crossentropy,\r\n",
        "              optimizer=keras.optimizers.SGD(lr=0.001),\r\n",
        "              metrics=[keras.metrics.binary_accuracy])"
      ],
      "execution_count": 44,
      "outputs": []
    },
    {
      "cell_type": "code",
      "metadata": {
        "colab": {
          "base_uri": "https://localhost:8080/"
        },
        "id": "FC6MumPOJL4a",
        "outputId": "de5a45e6-c66e-45a8-8659-6b5975155243"
      },
      "source": [
        "history = model.fit(X_train_scaled, y_train_over, epochs=200,\r\n",
        "          validation_data=(X_valid_scaled, y_valid))"
      ],
      "execution_count": 45,
      "outputs": [
        {
          "output_type": "stream",
          "text": [
            "Epoch 1/200\n",
            "63/63 [==============================] - 1s 8ms/step - loss: 1.0097 - binary_accuracy: 0.4809 - val_loss: 0.9153 - val_binary_accuracy: 0.4877\n",
            "Epoch 2/200\n",
            "63/63 [==============================] - 0s 2ms/step - loss: 0.8947 - binary_accuracy: 0.5175 - val_loss: 0.8775 - val_binary_accuracy: 0.5205\n",
            "Epoch 3/200\n",
            "63/63 [==============================] - 0s 2ms/step - loss: 0.8429 - binary_accuracy: 0.5277 - val_loss: 0.8466 - val_binary_accuracy: 0.5389\n",
            "Epoch 4/200\n",
            "63/63 [==============================] - 0s 3ms/step - loss: 0.8021 - binary_accuracy: 0.5625 - val_loss: 0.8241 - val_binary_accuracy: 0.5512\n",
            "Epoch 5/200\n",
            "63/63 [==============================] - 0s 2ms/step - loss: 0.7657 - binary_accuracy: 0.5676 - val_loss: 0.8029 - val_binary_accuracy: 0.5512\n",
            "Epoch 6/200\n",
            "63/63 [==============================] - 0s 2ms/step - loss: 0.7046 - binary_accuracy: 0.6160 - val_loss: 0.7856 - val_binary_accuracy: 0.5512\n",
            "Epoch 7/200\n",
            "63/63 [==============================] - 0s 2ms/step - loss: 0.6910 - binary_accuracy: 0.6042 - val_loss: 0.7694 - val_binary_accuracy: 0.5492\n",
            "Epoch 8/200\n",
            "63/63 [==============================] - 0s 2ms/step - loss: 0.6727 - binary_accuracy: 0.6186 - val_loss: 0.7576 - val_binary_accuracy: 0.5471\n",
            "Epoch 9/200\n",
            "63/63 [==============================] - 0s 2ms/step - loss: 0.6713 - binary_accuracy: 0.6144 - val_loss: 0.7462 - val_binary_accuracy: 0.5451\n",
            "Epoch 10/200\n",
            "63/63 [==============================] - 0s 2ms/step - loss: 0.6363 - binary_accuracy: 0.6455 - val_loss: 0.7395 - val_binary_accuracy: 0.5492\n",
            "Epoch 11/200\n",
            "63/63 [==============================] - 0s 3ms/step - loss: 0.6460 - binary_accuracy: 0.6498 - val_loss: 0.7322 - val_binary_accuracy: 0.5574\n",
            "Epoch 12/200\n",
            "63/63 [==============================] - 0s 2ms/step - loss: 0.6502 - binary_accuracy: 0.6489 - val_loss: 0.7245 - val_binary_accuracy: 0.5656\n",
            "Epoch 13/200\n",
            "63/63 [==============================] - 0s 2ms/step - loss: 0.6250 - binary_accuracy: 0.6673 - val_loss: 0.7202 - val_binary_accuracy: 0.5717\n",
            "Epoch 14/200\n",
            "63/63 [==============================] - 0s 2ms/step - loss: 0.6182 - binary_accuracy: 0.6658 - val_loss: 0.7157 - val_binary_accuracy: 0.5738\n",
            "Epoch 15/200\n",
            "63/63 [==============================] - 0s 2ms/step - loss: 0.6194 - binary_accuracy: 0.6570 - val_loss: 0.7115 - val_binary_accuracy: 0.5799\n",
            "Epoch 16/200\n",
            "63/63 [==============================] - 0s 2ms/step - loss: 0.6060 - binary_accuracy: 0.6779 - val_loss: 0.7077 - val_binary_accuracy: 0.5840\n",
            "Epoch 17/200\n",
            "63/63 [==============================] - 0s 2ms/step - loss: 0.6131 - binary_accuracy: 0.6803 - val_loss: 0.7043 - val_binary_accuracy: 0.5840\n",
            "Epoch 18/200\n",
            "63/63 [==============================] - 0s 2ms/step - loss: 0.5804 - binary_accuracy: 0.6964 - val_loss: 0.7022 - val_binary_accuracy: 0.5922\n",
            "Epoch 19/200\n",
            "63/63 [==============================] - 0s 2ms/step - loss: 0.5990 - binary_accuracy: 0.6742 - val_loss: 0.6992 - val_binary_accuracy: 0.5984\n",
            "Epoch 20/200\n",
            "63/63 [==============================] - 0s 3ms/step - loss: 0.5850 - binary_accuracy: 0.6911 - val_loss: 0.6980 - val_binary_accuracy: 0.6004\n",
            "Epoch 21/200\n",
            "63/63 [==============================] - 0s 2ms/step - loss: 0.5829 - binary_accuracy: 0.6983 - val_loss: 0.6978 - val_binary_accuracy: 0.6025\n",
            "Epoch 22/200\n",
            "63/63 [==============================] - 0s 2ms/step - loss: 0.5952 - binary_accuracy: 0.6815 - val_loss: 0.6955 - val_binary_accuracy: 0.6066\n",
            "Epoch 23/200\n",
            "63/63 [==============================] - 0s 3ms/step - loss: 0.5874 - binary_accuracy: 0.6847 - val_loss: 0.6944 - val_binary_accuracy: 0.6107\n",
            "Epoch 24/200\n",
            "63/63 [==============================] - 0s 3ms/step - loss: 0.5578 - binary_accuracy: 0.7024 - val_loss: 0.6941 - val_binary_accuracy: 0.6107\n",
            "Epoch 25/200\n",
            "63/63 [==============================] - 0s 2ms/step - loss: 0.5581 - binary_accuracy: 0.7029 - val_loss: 0.6933 - val_binary_accuracy: 0.6066\n",
            "Epoch 26/200\n",
            "63/63 [==============================] - 0s 2ms/step - loss: 0.5703 - binary_accuracy: 0.7068 - val_loss: 0.6926 - val_binary_accuracy: 0.6066\n",
            "Epoch 27/200\n",
            "63/63 [==============================] - 0s 2ms/step - loss: 0.5689 - binary_accuracy: 0.7086 - val_loss: 0.6924 - val_binary_accuracy: 0.6066\n",
            "Epoch 28/200\n",
            "63/63 [==============================] - 0s 2ms/step - loss: 0.5537 - binary_accuracy: 0.7150 - val_loss: 0.6918 - val_binary_accuracy: 0.6107\n",
            "Epoch 29/200\n",
            "63/63 [==============================] - 0s 2ms/step - loss: 0.5517 - binary_accuracy: 0.7202 - val_loss: 0.6906 - val_binary_accuracy: 0.6107\n",
            "Epoch 30/200\n",
            "63/63 [==============================] - 0s 2ms/step - loss: 0.5609 - binary_accuracy: 0.7157 - val_loss: 0.6889 - val_binary_accuracy: 0.6086\n",
            "Epoch 31/200\n",
            "63/63 [==============================] - 0s 3ms/step - loss: 0.5461 - binary_accuracy: 0.7250 - val_loss: 0.6885 - val_binary_accuracy: 0.6086\n",
            "Epoch 32/200\n",
            "63/63 [==============================] - 0s 2ms/step - loss: 0.5553 - binary_accuracy: 0.7154 - val_loss: 0.6876 - val_binary_accuracy: 0.6107\n",
            "Epoch 33/200\n",
            "63/63 [==============================] - 0s 2ms/step - loss: 0.5551 - binary_accuracy: 0.7203 - val_loss: 0.6865 - val_binary_accuracy: 0.6148\n",
            "Epoch 34/200\n",
            "63/63 [==============================] - 0s 2ms/step - loss: 0.5411 - binary_accuracy: 0.7257 - val_loss: 0.6860 - val_binary_accuracy: 0.6168\n",
            "Epoch 35/200\n",
            "63/63 [==============================] - 0s 2ms/step - loss: 0.5705 - binary_accuracy: 0.7169 - val_loss: 0.6859 - val_binary_accuracy: 0.6107\n",
            "Epoch 36/200\n",
            "63/63 [==============================] - 0s 2ms/step - loss: 0.5413 - binary_accuracy: 0.7361 - val_loss: 0.6851 - val_binary_accuracy: 0.6127\n",
            "Epoch 37/200\n",
            "63/63 [==============================] - 0s 3ms/step - loss: 0.5327 - binary_accuracy: 0.7243 - val_loss: 0.6842 - val_binary_accuracy: 0.6148\n",
            "Epoch 38/200\n",
            "63/63 [==============================] - 0s 3ms/step - loss: 0.5492 - binary_accuracy: 0.7210 - val_loss: 0.6841 - val_binary_accuracy: 0.6189\n",
            "Epoch 39/200\n",
            "63/63 [==============================] - 0s 2ms/step - loss: 0.5402 - binary_accuracy: 0.7326 - val_loss: 0.6838 - val_binary_accuracy: 0.6148\n",
            "Epoch 40/200\n",
            "63/63 [==============================] - 0s 3ms/step - loss: 0.5448 - binary_accuracy: 0.7117 - val_loss: 0.6832 - val_binary_accuracy: 0.6148\n",
            "Epoch 41/200\n",
            "63/63 [==============================] - 0s 2ms/step - loss: 0.5480 - binary_accuracy: 0.7206 - val_loss: 0.6830 - val_binary_accuracy: 0.6127\n",
            "Epoch 42/200\n",
            "63/63 [==============================] - 0s 2ms/step - loss: 0.5452 - binary_accuracy: 0.7257 - val_loss: 0.6827 - val_binary_accuracy: 0.6148\n",
            "Epoch 43/200\n",
            "63/63 [==============================] - 0s 2ms/step - loss: 0.5198 - binary_accuracy: 0.7436 - val_loss: 0.6830 - val_binary_accuracy: 0.6168\n",
            "Epoch 44/200\n",
            "63/63 [==============================] - 0s 2ms/step - loss: 0.5197 - binary_accuracy: 0.7525 - val_loss: 0.6828 - val_binary_accuracy: 0.6189\n",
            "Epoch 45/200\n",
            "63/63 [==============================] - 0s 2ms/step - loss: 0.5082 - binary_accuracy: 0.7512 - val_loss: 0.6831 - val_binary_accuracy: 0.6168\n",
            "Epoch 46/200\n",
            "63/63 [==============================] - 0s 4ms/step - loss: 0.5209 - binary_accuracy: 0.7396 - val_loss: 0.6823 - val_binary_accuracy: 0.6168\n",
            "Epoch 47/200\n",
            "63/63 [==============================] - 0s 2ms/step - loss: 0.5326 - binary_accuracy: 0.7291 - val_loss: 0.6828 - val_binary_accuracy: 0.6168\n",
            "Epoch 48/200\n",
            "63/63 [==============================] - 0s 2ms/step - loss: 0.5008 - binary_accuracy: 0.7534 - val_loss: 0.6832 - val_binary_accuracy: 0.6168\n",
            "Epoch 49/200\n",
            "63/63 [==============================] - 0s 3ms/step - loss: 0.5136 - binary_accuracy: 0.7469 - val_loss: 0.6831 - val_binary_accuracy: 0.6148\n",
            "Epoch 50/200\n",
            "63/63 [==============================] - 0s 2ms/step - loss: 0.5172 - binary_accuracy: 0.7285 - val_loss: 0.6833 - val_binary_accuracy: 0.6127\n",
            "Epoch 51/200\n",
            "63/63 [==============================] - 0s 2ms/step - loss: 0.5304 - binary_accuracy: 0.7475 - val_loss: 0.6826 - val_binary_accuracy: 0.6148\n",
            "Epoch 52/200\n",
            "63/63 [==============================] - 0s 2ms/step - loss: 0.5061 - binary_accuracy: 0.7558 - val_loss: 0.6825 - val_binary_accuracy: 0.6209\n",
            "Epoch 53/200\n",
            "63/63 [==============================] - 0s 2ms/step - loss: 0.4966 - binary_accuracy: 0.7763 - val_loss: 0.6822 - val_binary_accuracy: 0.6189\n",
            "Epoch 54/200\n",
            "63/63 [==============================] - 0s 2ms/step - loss: 0.4918 - binary_accuracy: 0.7666 - val_loss: 0.6822 - val_binary_accuracy: 0.6209\n",
            "Epoch 55/200\n",
            "63/63 [==============================] - 0s 3ms/step - loss: 0.4984 - binary_accuracy: 0.7621 - val_loss: 0.6826 - val_binary_accuracy: 0.6209\n",
            "Epoch 56/200\n",
            "63/63 [==============================] - 0s 3ms/step - loss: 0.4962 - binary_accuracy: 0.7723 - val_loss: 0.6835 - val_binary_accuracy: 0.6230\n",
            "Epoch 57/200\n",
            "63/63 [==============================] - 0s 3ms/step - loss: 0.5195 - binary_accuracy: 0.7421 - val_loss: 0.6841 - val_binary_accuracy: 0.6209\n",
            "Epoch 58/200\n",
            "63/63 [==============================] - 0s 3ms/step - loss: 0.4981 - binary_accuracy: 0.7517 - val_loss: 0.6841 - val_binary_accuracy: 0.6189\n",
            "Epoch 59/200\n",
            "63/63 [==============================] - 0s 3ms/step - loss: 0.5103 - binary_accuracy: 0.7499 - val_loss: 0.6838 - val_binary_accuracy: 0.6209\n",
            "Epoch 60/200\n",
            "63/63 [==============================] - 0s 3ms/step - loss: 0.4734 - binary_accuracy: 0.7721 - val_loss: 0.6840 - val_binary_accuracy: 0.6189\n",
            "Epoch 61/200\n",
            "63/63 [==============================] - 0s 3ms/step - loss: 0.5031 - binary_accuracy: 0.7491 - val_loss: 0.6837 - val_binary_accuracy: 0.6209\n",
            "Epoch 62/200\n",
            "63/63 [==============================] - 0s 3ms/step - loss: 0.4943 - binary_accuracy: 0.7692 - val_loss: 0.6837 - val_binary_accuracy: 0.6230\n",
            "Epoch 63/200\n",
            "63/63 [==============================] - 0s 3ms/step - loss: 0.4889 - binary_accuracy: 0.7687 - val_loss: 0.6840 - val_binary_accuracy: 0.6209\n",
            "Epoch 64/200\n",
            "63/63 [==============================] - 0s 3ms/step - loss: 0.4899 - binary_accuracy: 0.7542 - val_loss: 0.6835 - val_binary_accuracy: 0.6230\n",
            "Epoch 65/200\n",
            "63/63 [==============================] - 0s 3ms/step - loss: 0.4593 - binary_accuracy: 0.7750 - val_loss: 0.6839 - val_binary_accuracy: 0.6291\n",
            "Epoch 66/200\n",
            "63/63 [==============================] - 0s 3ms/step - loss: 0.4911 - binary_accuracy: 0.7593 - val_loss: 0.6831 - val_binary_accuracy: 0.6311\n",
            "Epoch 67/200\n",
            "63/63 [==============================] - 0s 3ms/step - loss: 0.4873 - binary_accuracy: 0.7695 - val_loss: 0.6829 - val_binary_accuracy: 0.6311\n",
            "Epoch 68/200\n",
            "63/63 [==============================] - 0s 3ms/step - loss: 0.4983 - binary_accuracy: 0.7608 - val_loss: 0.6839 - val_binary_accuracy: 0.6332\n",
            "Epoch 69/200\n",
            "63/63 [==============================] - 0s 3ms/step - loss: 0.4682 - binary_accuracy: 0.7714 - val_loss: 0.6835 - val_binary_accuracy: 0.6352\n",
            "Epoch 70/200\n",
            "63/63 [==============================] - 0s 3ms/step - loss: 0.4844 - binary_accuracy: 0.7646 - val_loss: 0.6830 - val_binary_accuracy: 0.6352\n",
            "Epoch 71/200\n",
            "63/63 [==============================] - 0s 3ms/step - loss: 0.4594 - binary_accuracy: 0.7856 - val_loss: 0.6837 - val_binary_accuracy: 0.6373\n",
            "Epoch 72/200\n",
            "63/63 [==============================] - 0s 3ms/step - loss: 0.4685 - binary_accuracy: 0.7807 - val_loss: 0.6841 - val_binary_accuracy: 0.6332\n",
            "Epoch 73/200\n",
            "63/63 [==============================] - 0s 3ms/step - loss: 0.4857 - binary_accuracy: 0.7595 - val_loss: 0.6846 - val_binary_accuracy: 0.6393\n",
            "Epoch 74/200\n",
            "63/63 [==============================] - 0s 3ms/step - loss: 0.4682 - binary_accuracy: 0.7863 - val_loss: 0.6849 - val_binary_accuracy: 0.6393\n",
            "Epoch 75/200\n",
            "63/63 [==============================] - 0s 3ms/step - loss: 0.4653 - binary_accuracy: 0.7990 - val_loss: 0.6846 - val_binary_accuracy: 0.6434\n",
            "Epoch 76/200\n",
            "63/63 [==============================] - 0s 3ms/step - loss: 0.4735 - binary_accuracy: 0.7772 - val_loss: 0.6852 - val_binary_accuracy: 0.6434\n",
            "Epoch 77/200\n",
            "63/63 [==============================] - 0s 3ms/step - loss: 0.4650 - binary_accuracy: 0.7763 - val_loss: 0.6854 - val_binary_accuracy: 0.6414\n",
            "Epoch 78/200\n",
            "63/63 [==============================] - 0s 3ms/step - loss: 0.4520 - binary_accuracy: 0.7747 - val_loss: 0.6854 - val_binary_accuracy: 0.6414\n",
            "Epoch 79/200\n",
            "63/63 [==============================] - 0s 3ms/step - loss: 0.4873 - binary_accuracy: 0.7555 - val_loss: 0.6853 - val_binary_accuracy: 0.6414\n",
            "Epoch 80/200\n",
            "63/63 [==============================] - 0s 3ms/step - loss: 0.4670 - binary_accuracy: 0.7809 - val_loss: 0.6854 - val_binary_accuracy: 0.6455\n",
            "Epoch 81/200\n",
            "63/63 [==============================] - 0s 3ms/step - loss: 0.4670 - binary_accuracy: 0.7847 - val_loss: 0.6851 - val_binary_accuracy: 0.6455\n",
            "Epoch 82/200\n",
            "63/63 [==============================] - 0s 3ms/step - loss: 0.4721 - binary_accuracy: 0.7623 - val_loss: 0.6855 - val_binary_accuracy: 0.6455\n",
            "Epoch 83/200\n",
            "63/63 [==============================] - 0s 3ms/step - loss: 0.4604 - binary_accuracy: 0.7775 - val_loss: 0.6856 - val_binary_accuracy: 0.6475\n",
            "Epoch 84/200\n",
            "63/63 [==============================] - 0s 3ms/step - loss: 0.4893 - binary_accuracy: 0.7521 - val_loss: 0.6848 - val_binary_accuracy: 0.6475\n",
            "Epoch 85/200\n",
            "63/63 [==============================] - 0s 3ms/step - loss: 0.4520 - binary_accuracy: 0.7889 - val_loss: 0.6851 - val_binary_accuracy: 0.6475\n",
            "Epoch 86/200\n",
            "63/63 [==============================] - 0s 3ms/step - loss: 0.4615 - binary_accuracy: 0.7923 - val_loss: 0.6859 - val_binary_accuracy: 0.6434\n",
            "Epoch 87/200\n",
            "63/63 [==============================] - 0s 3ms/step - loss: 0.4462 - binary_accuracy: 0.7893 - val_loss: 0.6862 - val_binary_accuracy: 0.6434\n",
            "Epoch 88/200\n",
            "63/63 [==============================] - 0s 3ms/step - loss: 0.4443 - binary_accuracy: 0.7943 - val_loss: 0.6866 - val_binary_accuracy: 0.6455\n",
            "Epoch 89/200\n",
            "63/63 [==============================] - 0s 3ms/step - loss: 0.4463 - binary_accuracy: 0.7925 - val_loss: 0.6861 - val_binary_accuracy: 0.6496\n",
            "Epoch 90/200\n",
            "63/63 [==============================] - 0s 3ms/step - loss: 0.4408 - binary_accuracy: 0.7959 - val_loss: 0.6860 - val_binary_accuracy: 0.6496\n",
            "Epoch 91/200\n",
            "63/63 [==============================] - 0s 3ms/step - loss: 0.4560 - binary_accuracy: 0.7806 - val_loss: 0.6853 - val_binary_accuracy: 0.6516\n",
            "Epoch 92/200\n",
            "63/63 [==============================] - 0s 3ms/step - loss: 0.4480 - binary_accuracy: 0.7934 - val_loss: 0.6857 - val_binary_accuracy: 0.6455\n",
            "Epoch 93/200\n",
            "63/63 [==============================] - 0s 3ms/step - loss: 0.4373 - binary_accuracy: 0.8059 - val_loss: 0.6854 - val_binary_accuracy: 0.6475\n",
            "Epoch 94/200\n",
            "63/63 [==============================] - 0s 3ms/step - loss: 0.4472 - binary_accuracy: 0.8004 - val_loss: 0.6865 - val_binary_accuracy: 0.6475\n",
            "Epoch 95/200\n",
            "63/63 [==============================] - 0s 3ms/step - loss: 0.4548 - binary_accuracy: 0.7800 - val_loss: 0.6868 - val_binary_accuracy: 0.6475\n",
            "Epoch 96/200\n",
            "63/63 [==============================] - 0s 3ms/step - loss: 0.4333 - binary_accuracy: 0.8056 - val_loss: 0.6861 - val_binary_accuracy: 0.6455\n",
            "Epoch 97/200\n",
            "63/63 [==============================] - 0s 3ms/step - loss: 0.4483 - binary_accuracy: 0.7922 - val_loss: 0.6869 - val_binary_accuracy: 0.6434\n",
            "Epoch 98/200\n",
            "63/63 [==============================] - 0s 3ms/step - loss: 0.4394 - binary_accuracy: 0.7968 - val_loss: 0.6880 - val_binary_accuracy: 0.6434\n",
            "Epoch 99/200\n",
            "63/63 [==============================] - 0s 3ms/step - loss: 0.4267 - binary_accuracy: 0.8096 - val_loss: 0.6869 - val_binary_accuracy: 0.6434\n",
            "Epoch 100/200\n",
            "63/63 [==============================] - 0s 3ms/step - loss: 0.4571 - binary_accuracy: 0.7856 - val_loss: 0.6874 - val_binary_accuracy: 0.6434\n",
            "Epoch 101/200\n",
            "63/63 [==============================] - 0s 3ms/step - loss: 0.4369 - binary_accuracy: 0.7901 - val_loss: 0.6873 - val_binary_accuracy: 0.6434\n",
            "Epoch 102/200\n",
            "63/63 [==============================] - 0s 5ms/step - loss: 0.4507 - binary_accuracy: 0.7816 - val_loss: 0.6874 - val_binary_accuracy: 0.6434\n",
            "Epoch 103/200\n",
            "63/63 [==============================] - 0s 3ms/step - loss: 0.4421 - binary_accuracy: 0.7924 - val_loss: 0.6889 - val_binary_accuracy: 0.6455\n",
            "Epoch 104/200\n",
            "63/63 [==============================] - 0s 3ms/step - loss: 0.4706 - binary_accuracy: 0.7717 - val_loss: 0.6890 - val_binary_accuracy: 0.6455\n",
            "Epoch 105/200\n",
            "63/63 [==============================] - 0s 3ms/step - loss: 0.4459 - binary_accuracy: 0.7749 - val_loss: 0.6893 - val_binary_accuracy: 0.6414\n",
            "Epoch 106/200\n",
            "63/63 [==============================] - 0s 3ms/step - loss: 0.4477 - binary_accuracy: 0.7856 - val_loss: 0.6894 - val_binary_accuracy: 0.6434\n",
            "Epoch 107/200\n",
            "63/63 [==============================] - 0s 3ms/step - loss: 0.4705 - binary_accuracy: 0.7788 - val_loss: 0.6892 - val_binary_accuracy: 0.6414\n",
            "Epoch 108/200\n",
            "63/63 [==============================] - 0s 3ms/step - loss: 0.4586 - binary_accuracy: 0.7748 - val_loss: 0.6894 - val_binary_accuracy: 0.6434\n",
            "Epoch 109/200\n",
            "63/63 [==============================] - 0s 3ms/step - loss: 0.4500 - binary_accuracy: 0.7944 - val_loss: 0.6899 - val_binary_accuracy: 0.6414\n",
            "Epoch 110/200\n",
            "63/63 [==============================] - 0s 3ms/step - loss: 0.4409 - binary_accuracy: 0.7901 - val_loss: 0.6899 - val_binary_accuracy: 0.6414\n",
            "Epoch 111/200\n",
            "63/63 [==============================] - 0s 2ms/step - loss: 0.4462 - binary_accuracy: 0.7886 - val_loss: 0.6901 - val_binary_accuracy: 0.6434\n",
            "Epoch 112/200\n",
            "63/63 [==============================] - 0s 3ms/step - loss: 0.4371 - binary_accuracy: 0.8055 - val_loss: 0.6896 - val_binary_accuracy: 0.6434\n",
            "Epoch 113/200\n",
            "63/63 [==============================] - 0s 3ms/step - loss: 0.4365 - binary_accuracy: 0.7932 - val_loss: 0.6901 - val_binary_accuracy: 0.6434\n",
            "Epoch 114/200\n",
            "63/63 [==============================] - 0s 2ms/step - loss: 0.4481 - binary_accuracy: 0.7817 - val_loss: 0.6907 - val_binary_accuracy: 0.6434\n",
            "Epoch 115/200\n",
            "63/63 [==============================] - 0s 3ms/step - loss: 0.4324 - binary_accuracy: 0.7910 - val_loss: 0.6912 - val_binary_accuracy: 0.6434\n",
            "Epoch 116/200\n",
            "63/63 [==============================] - 0s 3ms/step - loss: 0.4436 - binary_accuracy: 0.7987 - val_loss: 0.6914 - val_binary_accuracy: 0.6434\n",
            "Epoch 117/200\n",
            "63/63 [==============================] - 0s 3ms/step - loss: 0.4340 - binary_accuracy: 0.7984 - val_loss: 0.6904 - val_binary_accuracy: 0.6414\n",
            "Epoch 118/200\n",
            "63/63 [==============================] - 0s 3ms/step - loss: 0.4183 - binary_accuracy: 0.8037 - val_loss: 0.6912 - val_binary_accuracy: 0.6434\n",
            "Epoch 119/200\n",
            "63/63 [==============================] - 0s 2ms/step - loss: 0.4404 - binary_accuracy: 0.7883 - val_loss: 0.6919 - val_binary_accuracy: 0.6414\n",
            "Epoch 120/200\n",
            "63/63 [==============================] - 0s 3ms/step - loss: 0.4321 - binary_accuracy: 0.8018 - val_loss: 0.6922 - val_binary_accuracy: 0.6414\n",
            "Epoch 121/200\n",
            "63/63 [==============================] - 0s 3ms/step - loss: 0.4209 - binary_accuracy: 0.8096 - val_loss: 0.6926 - val_binary_accuracy: 0.6393\n",
            "Epoch 122/200\n",
            "63/63 [==============================] - 0s 3ms/step - loss: 0.4391 - binary_accuracy: 0.7910 - val_loss: 0.6922 - val_binary_accuracy: 0.6393\n",
            "Epoch 123/200\n",
            "63/63 [==============================] - 0s 3ms/step - loss: 0.4343 - binary_accuracy: 0.7863 - val_loss: 0.6923 - val_binary_accuracy: 0.6393\n",
            "Epoch 124/200\n",
            "63/63 [==============================] - 0s 3ms/step - loss: 0.3996 - binary_accuracy: 0.8263 - val_loss: 0.6928 - val_binary_accuracy: 0.6393\n",
            "Epoch 125/200\n",
            "63/63 [==============================] - 0s 3ms/step - loss: 0.4306 - binary_accuracy: 0.7981 - val_loss: 0.6925 - val_binary_accuracy: 0.6393\n",
            "Epoch 126/200\n",
            "63/63 [==============================] - 0s 3ms/step - loss: 0.4104 - binary_accuracy: 0.8278 - val_loss: 0.6930 - val_binary_accuracy: 0.6373\n",
            "Epoch 127/200\n",
            "63/63 [==============================] - 0s 3ms/step - loss: 0.4186 - binary_accuracy: 0.7987 - val_loss: 0.6932 - val_binary_accuracy: 0.6332\n",
            "Epoch 128/200\n",
            "63/63 [==============================] - 0s 3ms/step - loss: 0.3993 - binary_accuracy: 0.8181 - val_loss: 0.6931 - val_binary_accuracy: 0.6352\n",
            "Epoch 129/200\n",
            "63/63 [==============================] - 0s 3ms/step - loss: 0.4246 - binary_accuracy: 0.8169 - val_loss: 0.6931 - val_binary_accuracy: 0.6352\n",
            "Epoch 130/200\n",
            "63/63 [==============================] - 0s 3ms/step - loss: 0.4221 - binary_accuracy: 0.7990 - val_loss: 0.6944 - val_binary_accuracy: 0.6373\n",
            "Epoch 131/200\n",
            "63/63 [==============================] - 0s 3ms/step - loss: 0.4252 - binary_accuracy: 0.8019 - val_loss: 0.6930 - val_binary_accuracy: 0.6332\n",
            "Epoch 132/200\n",
            "63/63 [==============================] - 0s 3ms/step - loss: 0.4412 - binary_accuracy: 0.7913 - val_loss: 0.6935 - val_binary_accuracy: 0.6332\n",
            "Epoch 133/200\n",
            "63/63 [==============================] - 0s 3ms/step - loss: 0.4384 - binary_accuracy: 0.7957 - val_loss: 0.6933 - val_binary_accuracy: 0.6332\n",
            "Epoch 134/200\n",
            "63/63 [==============================] - 0s 3ms/step - loss: 0.4222 - binary_accuracy: 0.7923 - val_loss: 0.6936 - val_binary_accuracy: 0.6352\n",
            "Epoch 135/200\n",
            "63/63 [==============================] - 0s 3ms/step - loss: 0.4154 - binary_accuracy: 0.8047 - val_loss: 0.6944 - val_binary_accuracy: 0.6352\n",
            "Epoch 136/200\n",
            "63/63 [==============================] - 0s 3ms/step - loss: 0.4090 - binary_accuracy: 0.8156 - val_loss: 0.6942 - val_binary_accuracy: 0.6373\n",
            "Epoch 137/200\n",
            "63/63 [==============================] - 0s 3ms/step - loss: 0.4130 - binary_accuracy: 0.8155 - val_loss: 0.6945 - val_binary_accuracy: 0.6373\n",
            "Epoch 138/200\n",
            "63/63 [==============================] - 0s 3ms/step - loss: 0.4259 - binary_accuracy: 0.7967 - val_loss: 0.6954 - val_binary_accuracy: 0.6393\n",
            "Epoch 139/200\n",
            "63/63 [==============================] - 0s 3ms/step - loss: 0.4018 - binary_accuracy: 0.8089 - val_loss: 0.6946 - val_binary_accuracy: 0.6373\n",
            "Epoch 140/200\n",
            "63/63 [==============================] - 0s 3ms/step - loss: 0.4158 - binary_accuracy: 0.8020 - val_loss: 0.6957 - val_binary_accuracy: 0.6373\n",
            "Epoch 141/200\n",
            "63/63 [==============================] - 0s 3ms/step - loss: 0.4109 - binary_accuracy: 0.8088 - val_loss: 0.6963 - val_binary_accuracy: 0.6373\n",
            "Epoch 142/200\n",
            "63/63 [==============================] - 0s 3ms/step - loss: 0.4150 - binary_accuracy: 0.8093 - val_loss: 0.6972 - val_binary_accuracy: 0.6373\n",
            "Epoch 143/200\n",
            "63/63 [==============================] - 0s 3ms/step - loss: 0.4275 - binary_accuracy: 0.8043 - val_loss: 0.6965 - val_binary_accuracy: 0.6373\n",
            "Epoch 144/200\n",
            "63/63 [==============================] - 0s 3ms/step - loss: 0.4078 - binary_accuracy: 0.8014 - val_loss: 0.6969 - val_binary_accuracy: 0.6352\n",
            "Epoch 145/200\n",
            "63/63 [==============================] - 0s 3ms/step - loss: 0.4082 - binary_accuracy: 0.8137 - val_loss: 0.6979 - val_binary_accuracy: 0.6332\n",
            "Epoch 146/200\n",
            "63/63 [==============================] - 0s 3ms/step - loss: 0.4142 - binary_accuracy: 0.8178 - val_loss: 0.6980 - val_binary_accuracy: 0.6352\n",
            "Epoch 147/200\n",
            "63/63 [==============================] - 0s 3ms/step - loss: 0.4006 - binary_accuracy: 0.8191 - val_loss: 0.6979 - val_binary_accuracy: 0.6352\n",
            "Epoch 148/200\n",
            "63/63 [==============================] - 0s 3ms/step - loss: 0.4030 - binary_accuracy: 0.8168 - val_loss: 0.6993 - val_binary_accuracy: 0.6332\n",
            "Epoch 149/200\n",
            "63/63 [==============================] - 0s 5ms/step - loss: 0.4087 - binary_accuracy: 0.8048 - val_loss: 0.6996 - val_binary_accuracy: 0.6311\n",
            "Epoch 150/200\n",
            "63/63 [==============================] - 0s 3ms/step - loss: 0.3969 - binary_accuracy: 0.8167 - val_loss: 0.7003 - val_binary_accuracy: 0.6311\n",
            "Epoch 151/200\n",
            "63/63 [==============================] - 0s 3ms/step - loss: 0.3878 - binary_accuracy: 0.8259 - val_loss: 0.6993 - val_binary_accuracy: 0.6332\n",
            "Epoch 152/200\n",
            "63/63 [==============================] - 0s 2ms/step - loss: 0.4041 - binary_accuracy: 0.8174 - val_loss: 0.6995 - val_binary_accuracy: 0.6332\n",
            "Epoch 153/200\n",
            "63/63 [==============================] - 0s 3ms/step - loss: 0.3923 - binary_accuracy: 0.8202 - val_loss: 0.7006 - val_binary_accuracy: 0.6352\n",
            "Epoch 154/200\n",
            "63/63 [==============================] - 0s 3ms/step - loss: 0.4159 - binary_accuracy: 0.8270 - val_loss: 0.6994 - val_binary_accuracy: 0.6352\n",
            "Epoch 155/200\n",
            "63/63 [==============================] - 0s 3ms/step - loss: 0.4034 - binary_accuracy: 0.8012 - val_loss: 0.7004 - val_binary_accuracy: 0.6332\n",
            "Epoch 156/200\n",
            "63/63 [==============================] - 0s 3ms/step - loss: 0.4242 - binary_accuracy: 0.7891 - val_loss: 0.7005 - val_binary_accuracy: 0.6332\n",
            "Epoch 157/200\n",
            "63/63 [==============================] - 0s 3ms/step - loss: 0.4189 - binary_accuracy: 0.7973 - val_loss: 0.7011 - val_binary_accuracy: 0.6352\n",
            "Epoch 158/200\n",
            "63/63 [==============================] - 0s 3ms/step - loss: 0.4063 - binary_accuracy: 0.8108 - val_loss: 0.7011 - val_binary_accuracy: 0.6332\n",
            "Epoch 159/200\n",
            "63/63 [==============================] - 0s 3ms/step - loss: 0.4017 - binary_accuracy: 0.8144 - val_loss: 0.7014 - val_binary_accuracy: 0.6352\n",
            "Epoch 160/200\n",
            "63/63 [==============================] - 0s 3ms/step - loss: 0.3805 - binary_accuracy: 0.8271 - val_loss: 0.7022 - val_binary_accuracy: 0.6352\n",
            "Epoch 161/200\n",
            "63/63 [==============================] - 0s 3ms/step - loss: 0.4046 - binary_accuracy: 0.8167 - val_loss: 0.7021 - val_binary_accuracy: 0.6352\n",
            "Epoch 162/200\n",
            "63/63 [==============================] - 0s 3ms/step - loss: 0.3832 - binary_accuracy: 0.8204 - val_loss: 0.7027 - val_binary_accuracy: 0.6332\n",
            "Epoch 163/200\n",
            "63/63 [==============================] - 0s 3ms/step - loss: 0.4020 - binary_accuracy: 0.8142 - val_loss: 0.7017 - val_binary_accuracy: 0.6352\n",
            "Epoch 164/200\n",
            "63/63 [==============================] - 0s 3ms/step - loss: 0.3996 - binary_accuracy: 0.8165 - val_loss: 0.7025 - val_binary_accuracy: 0.6332\n",
            "Epoch 165/200\n",
            "63/63 [==============================] - 0s 3ms/step - loss: 0.3841 - binary_accuracy: 0.8244 - val_loss: 0.7039 - val_binary_accuracy: 0.6352\n",
            "Epoch 166/200\n",
            "63/63 [==============================] - 0s 3ms/step - loss: 0.4008 - binary_accuracy: 0.8209 - val_loss: 0.7041 - val_binary_accuracy: 0.6352\n",
            "Epoch 167/200\n",
            "63/63 [==============================] - 0s 3ms/step - loss: 0.3870 - binary_accuracy: 0.8191 - val_loss: 0.7047 - val_binary_accuracy: 0.6332\n",
            "Epoch 168/200\n",
            "63/63 [==============================] - 0s 2ms/step - loss: 0.3970 - binary_accuracy: 0.8146 - val_loss: 0.7044 - val_binary_accuracy: 0.6373\n",
            "Epoch 169/200\n",
            "63/63 [==============================] - 0s 3ms/step - loss: 0.3928 - binary_accuracy: 0.8174 - val_loss: 0.7041 - val_binary_accuracy: 0.6393\n",
            "Epoch 170/200\n",
            "63/63 [==============================] - 0s 3ms/step - loss: 0.4049 - binary_accuracy: 0.8077 - val_loss: 0.7044 - val_binary_accuracy: 0.6434\n",
            "Epoch 171/200\n",
            "63/63 [==============================] - 0s 3ms/step - loss: 0.4076 - binary_accuracy: 0.8147 - val_loss: 0.7048 - val_binary_accuracy: 0.6434\n",
            "Epoch 172/200\n",
            "63/63 [==============================] - 0s 2ms/step - loss: 0.3925 - binary_accuracy: 0.8220 - val_loss: 0.7040 - val_binary_accuracy: 0.6393\n",
            "Epoch 173/200\n",
            "63/63 [==============================] - 0s 3ms/step - loss: 0.3877 - binary_accuracy: 0.8267 - val_loss: 0.7064 - val_binary_accuracy: 0.6414\n",
            "Epoch 174/200\n",
            "63/63 [==============================] - 0s 3ms/step - loss: 0.4142 - binary_accuracy: 0.8102 - val_loss: 0.7059 - val_binary_accuracy: 0.6414\n",
            "Epoch 175/200\n",
            "63/63 [==============================] - 0s 3ms/step - loss: 0.3881 - binary_accuracy: 0.8158 - val_loss: 0.7061 - val_binary_accuracy: 0.6414\n",
            "Epoch 176/200\n",
            "63/63 [==============================] - 0s 3ms/step - loss: 0.3858 - binary_accuracy: 0.8214 - val_loss: 0.7068 - val_binary_accuracy: 0.6414\n",
            "Epoch 177/200\n",
            "63/63 [==============================] - 0s 3ms/step - loss: 0.3947 - binary_accuracy: 0.8183 - val_loss: 0.7084 - val_binary_accuracy: 0.6373\n",
            "Epoch 178/200\n",
            "63/63 [==============================] - 0s 3ms/step - loss: 0.3911 - binary_accuracy: 0.8253 - val_loss: 0.7086 - val_binary_accuracy: 0.6373\n",
            "Epoch 179/200\n",
            "63/63 [==============================] - 0s 3ms/step - loss: 0.3916 - binary_accuracy: 0.8170 - val_loss: 0.7084 - val_binary_accuracy: 0.6393\n",
            "Epoch 180/200\n",
            "63/63 [==============================] - 0s 3ms/step - loss: 0.4046 - binary_accuracy: 0.8109 - val_loss: 0.7083 - val_binary_accuracy: 0.6434\n",
            "Epoch 181/200\n",
            "63/63 [==============================] - 0s 3ms/step - loss: 0.3510 - binary_accuracy: 0.8492 - val_loss: 0.7092 - val_binary_accuracy: 0.6393\n",
            "Epoch 182/200\n",
            "63/63 [==============================] - 0s 3ms/step - loss: 0.3824 - binary_accuracy: 0.8235 - val_loss: 0.7091 - val_binary_accuracy: 0.6414\n",
            "Epoch 183/200\n",
            "63/63 [==============================] - 0s 3ms/step - loss: 0.3973 - binary_accuracy: 0.8134 - val_loss: 0.7090 - val_binary_accuracy: 0.6414\n",
            "Epoch 184/200\n",
            "63/63 [==============================] - 0s 3ms/step - loss: 0.3901 - binary_accuracy: 0.8225 - val_loss: 0.7105 - val_binary_accuracy: 0.6455\n",
            "Epoch 185/200\n",
            "63/63 [==============================] - 0s 3ms/step - loss: 0.3745 - binary_accuracy: 0.8309 - val_loss: 0.7117 - val_binary_accuracy: 0.6455\n",
            "Epoch 186/200\n",
            "63/63 [==============================] - 0s 3ms/step - loss: 0.3784 - binary_accuracy: 0.8286 - val_loss: 0.7116 - val_binary_accuracy: 0.6496\n",
            "Epoch 187/200\n",
            "63/63 [==============================] - 0s 3ms/step - loss: 0.3856 - binary_accuracy: 0.8178 - val_loss: 0.7114 - val_binary_accuracy: 0.6434\n",
            "Epoch 188/200\n",
            "63/63 [==============================] - 0s 3ms/step - loss: 0.3887 - binary_accuracy: 0.8318 - val_loss: 0.7119 - val_binary_accuracy: 0.6455\n",
            "Epoch 189/200\n",
            "63/63 [==============================] - 0s 3ms/step - loss: 0.3735 - binary_accuracy: 0.8290 - val_loss: 0.7127 - val_binary_accuracy: 0.6434\n",
            "Epoch 190/200\n",
            "63/63 [==============================] - 0s 3ms/step - loss: 0.3727 - binary_accuracy: 0.8372 - val_loss: 0.7133 - val_binary_accuracy: 0.6455\n",
            "Epoch 191/200\n",
            "63/63 [==============================] - 0s 3ms/step - loss: 0.3814 - binary_accuracy: 0.8251 - val_loss: 0.7130 - val_binary_accuracy: 0.6455\n",
            "Epoch 192/200\n",
            "63/63 [==============================] - 0s 3ms/step - loss: 0.3919 - binary_accuracy: 0.8149 - val_loss: 0.7131 - val_binary_accuracy: 0.6475\n",
            "Epoch 193/200\n",
            "63/63 [==============================] - 0s 2ms/step - loss: 0.3524 - binary_accuracy: 0.8391 - val_loss: 0.7148 - val_binary_accuracy: 0.6475\n",
            "Epoch 194/200\n",
            "63/63 [==============================] - 0s 3ms/step - loss: 0.3689 - binary_accuracy: 0.8364 - val_loss: 0.7159 - val_binary_accuracy: 0.6496\n",
            "Epoch 195/200\n",
            "63/63 [==============================] - 0s 3ms/step - loss: 0.3795 - binary_accuracy: 0.8262 - val_loss: 0.7162 - val_binary_accuracy: 0.6455\n",
            "Epoch 196/200\n",
            "63/63 [==============================] - 0s 5ms/step - loss: 0.3829 - binary_accuracy: 0.8198 - val_loss: 0.7161 - val_binary_accuracy: 0.6475\n",
            "Epoch 197/200\n",
            "63/63 [==============================] - 0s 3ms/step - loss: 0.3677 - binary_accuracy: 0.8345 - val_loss: 0.7172 - val_binary_accuracy: 0.6455\n",
            "Epoch 198/200\n",
            "63/63 [==============================] - 0s 3ms/step - loss: 0.3753 - binary_accuracy: 0.8439 - val_loss: 0.7174 - val_binary_accuracy: 0.6455\n",
            "Epoch 199/200\n",
            "63/63 [==============================] - 0s 3ms/step - loss: 0.3703 - binary_accuracy: 0.8230 - val_loss: 0.7170 - val_binary_accuracy: 0.6455\n",
            "Epoch 200/200\n",
            "63/63 [==============================] - 0s 3ms/step - loss: 0.3644 - binary_accuracy: 0.8464 - val_loss: 0.7166 - val_binary_accuracy: 0.6455\n"
          ],
          "name": "stdout"
        }
      ]
    },
    {
      "cell_type": "code",
      "metadata": {
        "colab": {
          "base_uri": "https://localhost:8080/",
          "height": 324
        },
        "id": "qiWoQ4B1JP2V",
        "outputId": "2f28e30d-3c1f-42ed-fbe7-8416b1bf5163"
      },
      "source": [
        "import pandas as pd\r\n",
        "import matplotlib.pyplot as plt\r\n",
        "\r\n",
        "pd.DataFrame(history.history).plot(figsize=(8,5))\r\n",
        "plt.grid(True)\r\n",
        "plt.gca().set_ylim(0,1)\r\n",
        "plt.show()"
      ],
      "execution_count": 46,
      "outputs": [
        {
          "output_type": "display_data",
          "data": {
            "image/png": "[encoded data removed]",
            "text/plain": [
              "<Figure size 576x360 with 1 Axes>"
            ]
          },
          "metadata": {
            "tags": [],
            "needs_background": "light"
          }
        }
      ]
    },
    {
      "cell_type": "code",
      "metadata": {
        "id": "4kvGXB48JWrC"
      },
      "source": [
        "\r\n",
        "model.evaluate(X_test_scaled,y_test)"
      ],
      "execution_count": null,
      "outputs": []
    }
  ]
}