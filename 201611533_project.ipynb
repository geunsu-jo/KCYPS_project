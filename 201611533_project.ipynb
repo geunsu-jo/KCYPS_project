{
  "nbformat": 4,
  "nbformat_minor": 0,
  "metadata": {
    "colab": {
      "name": "201611533_project.ipynb",
      "provenance": [],
      "collapsed_sections": [],
      "mount_file_id": "1oE66Prgz4w2ojbPgH7BCq4j1HOxVv8Up",
      "authorship_tag": "ABX9TyMjynT3HYkJp1btCw0cIYEk",
      "include_colab_link": true
    },
    "kernelspec": {
      "name": "python3",
      "display_name": "Python 3"
    }
  },
  "cells": [
    {
      "cell_type": "markdown",
      "metadata": {
        "id": "view-in-github",
        "colab_type": "text"
      },
      "source": [
        "<a href=\"https://colab.research.google.com/github/geunsu-jo/KCYPS_project/blob/main/201611533_project.ipynb\" target=\"_parent\"><img src=\"https://colab.research.google.com/assets/colab-badge.svg\" alt=\"Open In Colab\"/></a>"
      ]
    },
    {
      "cell_type": "code",
      "metadata": {
        "id": "qOZtmyeHnNes"
      },
      "source": [
        "import numpy as np\r\n",
        "import pandas as pd"
      ],
      "execution_count": 153,
      "outputs": []
    },
    {
      "cell_type": "code",
      "metadata": {
        "id": "rGKnKOaonPCq"
      },
      "source": [
        "train_data = pd.read_excel(\"/content/drive/MyDrive/Colab Notebooks/train_data.xlsx\")\r\n",
        "test_data = pd.read_excel(\"/content/drive/MyDrive/Colab Notebooks/test_data.xlsx\")"
      ],
      "execution_count": 209,
      "outputs": []
    },
    {
      "cell_type": "code",
      "metadata": {
        "colab": {
          "base_uri": "https://localhost:8080/"
        },
        "id": "UpmWeZamnslX",
        "outputId": "6d36d03d-7384-4b1f-9252-1f848bd86116"
      },
      "source": [
        "train_data.shape, test_data.shape"
      ],
      "execution_count": 210,
      "outputs": [
        {
          "output_type": "execute_result",
          "data": {
            "text/plain": [
              "((1950, 135), (488, 135))"
            ]
          },
          "metadata": {
            "tags": []
          },
          "execution_count": 210
        }
      ]
    },
    {
      "cell_type": "markdown",
      "metadata": {
        "id": "IDLL0j8_ccGj"
      },
      "source": [
        "__target__ 데이터 생성"
      ]
    },
    {
      "cell_type": "code",
      "metadata": {
        "id": "k5qGWSK5nyy0"
      },
      "source": [
        "y_train_raw = train_data[\"y\"]\r\n",
        "y_test = test_data[\"y\"]"
      ],
      "execution_count": 211,
      "outputs": []
    },
    {
      "cell_type": "markdown",
      "metadata": {
        "id": "gNFG7Qt1ceQJ"
      },
      "source": [
        "__feature__데이터 생성"
      ]
    },
    {
      "cell_type": "code",
      "metadata": {
        "colab": {
          "base_uri": "https://localhost:8080/",
          "height": 185
        },
        "id": "msK-KLJCn1Ke",
        "outputId": "4d88a906-3141-438b-d6c1-78a10b64de6f"
      },
      "source": [
        "X_train_raw = train_data.drop(['y'], axis=1)\r\n",
        "X_test = test_data.drop(['y'], axis=1)\r\n",
        "X_train_raw.head(3)"
      ],
      "execution_count": 212,
      "outputs": [
        {
          "output_type": "execute_result",
          "data": {
            "text/html": [
              "<div>\n",
              "<style scoped>\n",
              "    .dataframe tbody tr th:only-of-type {\n",
              "        vertical-align: middle;\n",
              "    }\n",
              "\n",
              "    .dataframe tbody tr th {\n",
              "        vertical-align: top;\n",
              "    }\n",
              "\n",
              "    .dataframe thead th {\n",
              "        text-align: right;\n",
              "    }\n",
              "</style>\n",
              "<table border=\"1\" class=\"dataframe\">\n",
              "  <thead>\n",
              "    <tr style=\"text-align: right;\">\n",
              "      <th></th>\n",
              "      <th>YTIM1A01w2</th>\n",
              "      <th>YTIM1B01w2</th>\n",
              "      <th>YTIM1B02w2</th>\n",
              "      <th>YTIM1C01w2</th>\n",
              "      <th>YTIM1A03w2</th>\n",
              "      <th>YTIM1A04w2</th>\n",
              "      <th>YTIM1B04w2</th>\n",
              "      <th>YTIM1C02w2</th>\n",
              "      <th>YTIM1D01w2</th>\n",
              "      <th>YTIM1H02w2</th>\n",
              "      <th>YTIM1K01w2</th>\n",
              "      <th>YTIM1K02w2</th>\n",
              "      <th>YTIM1L01w2</th>\n",
              "      <th>YTIM1L02w2</th>\n",
              "      <th>YTIM1N02w2</th>\n",
              "      <th>YINT1B00w2</th>\n",
              "      <th>YINT2A02w2</th>\n",
              "      <th>YINT2A03w2</th>\n",
              "      <th>YINT2A08w2</th>\n",
              "      <th>YINT2A10w2</th>\n",
              "      <th>YINT2A11w2</th>\n",
              "      <th>YINT2A14w2</th>\n",
              "      <th>YINT2A15w2</th>\n",
              "      <th>YINT2B01w2</th>\n",
              "      <th>YINT2B02w2</th>\n",
              "      <th>YINT2B03w2</th>\n",
              "      <th>YINT2B08w2</th>\n",
              "      <th>YINT2B09w2</th>\n",
              "      <th>YINT2B11w2</th>\n",
              "      <th>YINT2B12w2</th>\n",
              "      <th>YINT2B13w2</th>\n",
              "      <th>YINT2B16w2</th>\n",
              "      <th>YFUR1A00w2</th>\n",
              "      <th>YFUR2A02w2</th>\n",
              "      <th>YFUR2A04w2</th>\n",
              "      <th>YFUR2A07w2</th>\n",
              "      <th>YFUR2A08w2</th>\n",
              "      <th>YPSY1A05w2</th>\n",
              "      <th>YPSY4A01w2</th>\n",
              "      <th>YPSY4A02w2</th>\n",
              "      <th>...</th>\n",
              "      <th>YEDU3A12w2</th>\n",
              "      <th>YEDU3A14w2</th>\n",
              "      <th>YFAM1A03w2</th>\n",
              "      <th>YFAM2A04w2</th>\n",
              "      <th>YFAM2B01w2</th>\n",
              "      <th>YFAM2B02w2</th>\n",
              "      <th>YFAM2C03w2</th>\n",
              "      <th>YFAM2D04w2</th>\n",
              "      <th>YFAM2E02w2</th>\n",
              "      <th>YFAM2E04w2</th>\n",
              "      <th>YFAM2F02w2</th>\n",
              "      <th>YFAM2F04w2</th>\n",
              "      <th>PPSY1A01w2</th>\n",
              "      <th>PPSY1A02w2</th>\n",
              "      <th>PPSY1A05w2</th>\n",
              "      <th>PPSY2A01w2</th>\n",
              "      <th>PPSY2A02w2</th>\n",
              "      <th>PPSY2A04w2</th>\n",
              "      <th>PPSY3A01w2</th>\n",
              "      <th>PPSY3A04w2</th>\n",
              "      <th>PPSY3A05w2</th>\n",
              "      <th>PPSY3A06w2</th>\n",
              "      <th>PPSY3A07w2</th>\n",
              "      <th>PPSY4A02w2</th>\n",
              "      <th>PPSY4A04w2</th>\n",
              "      <th>PPSY4A06w2</th>\n",
              "      <th>PPSY4A08w2</th>\n",
              "      <th>PPSY4A09w2</th>\n",
              "      <th>PPSY4A21w2</th>\n",
              "      <th>PPSY4A24w2</th>\n",
              "      <th>PPSY4A25w2</th>\n",
              "      <th>PPSY4A28w2</th>\n",
              "      <th>PPSY4A29w2</th>\n",
              "      <th>PPSY4Ascw2</th>\n",
              "      <th>PPSY5A01w2</th>\n",
              "      <th>PPSY5A08w2</th>\n",
              "      <th>PPHY1A00w2</th>\n",
              "      <th>PPHY1B00w2</th>\n",
              "      <th>PPHY1C00w2</th>\n",
              "      <th>PPHY2B00w2</th>\n",
              "    </tr>\n",
              "  </thead>\n",
              "  <tbody>\n",
              "    <tr>\n",
              "      <th>0</th>\n",
              "      <td>7</td>\n",
              "      <td>22</td>\n",
              "      <td>0</td>\n",
              "      <td>4</td>\n",
              "      <td>9</td>\n",
              "      <td>0</td>\n",
              "      <td>30</td>\n",
              "      <td>3</td>\n",
              "      <td>3</td>\n",
              "      <td>3</td>\n",
              "      <td>3</td>\n",
              "      <td>3</td>\n",
              "      <td>4</td>\n",
              "      <td>4</td>\n",
              "      <td>5</td>\n",
              "      <td>4</td>\n",
              "      <td>4</td>\n",
              "      <td>4</td>\n",
              "      <td>3</td>\n",
              "      <td>3</td>\n",
              "      <td>4</td>\n",
              "      <td>3</td>\n",
              "      <td>3</td>\n",
              "      <td>1</td>\n",
              "      <td>1</td>\n",
              "      <td>1</td>\n",
              "      <td>1</td>\n",
              "      <td>1</td>\n",
              "      <td>1</td>\n",
              "      <td>2</td>\n",
              "      <td>2</td>\n",
              "      <td>1</td>\n",
              "      <td>3</td>\n",
              "      <td>4</td>\n",
              "      <td>3</td>\n",
              "      <td>3</td>\n",
              "      <td>8</td>\n",
              "      <td>4</td>\n",
              "      <td>2</td>\n",
              "      <td>1</td>\n",
              "      <td>...</td>\n",
              "      <td>4</td>\n",
              "      <td>4</td>\n",
              "      <td>8</td>\n",
              "      <td>4</td>\n",
              "      <td>2</td>\n",
              "      <td>1</td>\n",
              "      <td>4</td>\n",
              "      <td>1</td>\n",
              "      <td>4</td>\n",
              "      <td>4</td>\n",
              "      <td>2</td>\n",
              "      <td>1</td>\n",
              "      <td>4</td>\n",
              "      <td>3</td>\n",
              "      <td>3</td>\n",
              "      <td>4</td>\n",
              "      <td>3</td>\n",
              "      <td>1</td>\n",
              "      <td>4</td>\n",
              "      <td>4</td>\n",
              "      <td>1</td>\n",
              "      <td>1</td>\n",
              "      <td>4</td>\n",
              "      <td>1</td>\n",
              "      <td>0</td>\n",
              "      <td>1</td>\n",
              "      <td>0</td>\n",
              "      <td>1</td>\n",
              "      <td>0</td>\n",
              "      <td>1</td>\n",
              "      <td>0</td>\n",
              "      <td>0</td>\n",
              "      <td>0</td>\n",
              "      <td>5</td>\n",
              "      <td>3</td>\n",
              "      <td>3</td>\n",
              "      <td>3</td>\n",
              "      <td>2</td>\n",
              "      <td>3</td>\n",
              "      <td>60</td>\n",
              "    </tr>\n",
              "    <tr>\n",
              "      <th>1</th>\n",
              "      <td>7</td>\n",
              "      <td>23</td>\n",
              "      <td>0</td>\n",
              "      <td>2</td>\n",
              "      <td>10</td>\n",
              "      <td>30</td>\n",
              "      <td>20</td>\n",
              "      <td>3</td>\n",
              "      <td>3</td>\n",
              "      <td>3</td>\n",
              "      <td>4</td>\n",
              "      <td>6</td>\n",
              "      <td>3</td>\n",
              "      <td>1</td>\n",
              "      <td>5</td>\n",
              "      <td>4</td>\n",
              "      <td>3</td>\n",
              "      <td>3</td>\n",
              "      <td>3</td>\n",
              "      <td>3</td>\n",
              "      <td>3</td>\n",
              "      <td>2</td>\n",
              "      <td>3</td>\n",
              "      <td>3</td>\n",
              "      <td>2</td>\n",
              "      <td>3</td>\n",
              "      <td>2</td>\n",
              "      <td>3</td>\n",
              "      <td>3</td>\n",
              "      <td>3</td>\n",
              "      <td>3</td>\n",
              "      <td>3</td>\n",
              "      <td>4</td>\n",
              "      <td>4</td>\n",
              "      <td>8</td>\n",
              "      <td>4</td>\n",
              "      <td>8</td>\n",
              "      <td>3</td>\n",
              "      <td>2</td>\n",
              "      <td>2</td>\n",
              "      <td>...</td>\n",
              "      <td>3</td>\n",
              "      <td>3</td>\n",
              "      <td>3</td>\n",
              "      <td>3</td>\n",
              "      <td>3</td>\n",
              "      <td>2</td>\n",
              "      <td>3</td>\n",
              "      <td>2</td>\n",
              "      <td>3</td>\n",
              "      <td>3</td>\n",
              "      <td>2</td>\n",
              "      <td>2</td>\n",
              "      <td>2</td>\n",
              "      <td>3</td>\n",
              "      <td>3</td>\n",
              "      <td>3</td>\n",
              "      <td>3</td>\n",
              "      <td>2</td>\n",
              "      <td>3</td>\n",
              "      <td>3</td>\n",
              "      <td>2</td>\n",
              "      <td>2</td>\n",
              "      <td>3</td>\n",
              "      <td>0</td>\n",
              "      <td>0</td>\n",
              "      <td>0</td>\n",
              "      <td>1</td>\n",
              "      <td>1</td>\n",
              "      <td>0</td>\n",
              "      <td>0</td>\n",
              "      <td>1</td>\n",
              "      <td>0</td>\n",
              "      <td>0</td>\n",
              "      <td>2</td>\n",
              "      <td>3</td>\n",
              "      <td>3</td>\n",
              "      <td>3</td>\n",
              "      <td>2</td>\n",
              "      <td>4</td>\n",
              "      <td>70</td>\n",
              "    </tr>\n",
              "    <tr>\n",
              "      <th>2</th>\n",
              "      <td>8</td>\n",
              "      <td>24</td>\n",
              "      <td>0</td>\n",
              "      <td>4</td>\n",
              "      <td>10</td>\n",
              "      <td>0</td>\n",
              "      <td>0</td>\n",
              "      <td>4</td>\n",
              "      <td>4</td>\n",
              "      <td>1</td>\n",
              "      <td>5</td>\n",
              "      <td>6</td>\n",
              "      <td>4</td>\n",
              "      <td>5</td>\n",
              "      <td>5</td>\n",
              "      <td>3</td>\n",
              "      <td>2</td>\n",
              "      <td>1</td>\n",
              "      <td>1</td>\n",
              "      <td>1</td>\n",
              "      <td>1</td>\n",
              "      <td>1</td>\n",
              "      <td>2</td>\n",
              "      <td>3</td>\n",
              "      <td>3</td>\n",
              "      <td>3</td>\n",
              "      <td>3</td>\n",
              "      <td>4</td>\n",
              "      <td>2</td>\n",
              "      <td>1</td>\n",
              "      <td>4</td>\n",
              "      <td>4</td>\n",
              "      <td>3</td>\n",
              "      <td>3</td>\n",
              "      <td>8</td>\n",
              "      <td>2</td>\n",
              "      <td>8</td>\n",
              "      <td>1</td>\n",
              "      <td>1</td>\n",
              "      <td>2</td>\n",
              "      <td>...</td>\n",
              "      <td>1</td>\n",
              "      <td>1</td>\n",
              "      <td>3</td>\n",
              "      <td>3</td>\n",
              "      <td>4</td>\n",
              "      <td>2</td>\n",
              "      <td>3</td>\n",
              "      <td>1</td>\n",
              "      <td>4</td>\n",
              "      <td>4</td>\n",
              "      <td>2</td>\n",
              "      <td>2</td>\n",
              "      <td>3</td>\n",
              "      <td>3</td>\n",
              "      <td>1</td>\n",
              "      <td>3</td>\n",
              "      <td>3</td>\n",
              "      <td>1</td>\n",
              "      <td>3</td>\n",
              "      <td>4</td>\n",
              "      <td>1</td>\n",
              "      <td>1</td>\n",
              "      <td>4</td>\n",
              "      <td>0</td>\n",
              "      <td>0</td>\n",
              "      <td>0</td>\n",
              "      <td>0</td>\n",
              "      <td>1</td>\n",
              "      <td>0</td>\n",
              "      <td>1</td>\n",
              "      <td>1</td>\n",
              "      <td>0</td>\n",
              "      <td>0</td>\n",
              "      <td>5</td>\n",
              "      <td>1</td>\n",
              "      <td>3</td>\n",
              "      <td>2</td>\n",
              "      <td>5</td>\n",
              "      <td>7</td>\n",
              "      <td>75</td>\n",
              "    </tr>\n",
              "  </tbody>\n",
              "</table>\n",
              "<p>3 rows × 134 columns</p>\n",
              "</div>"
            ],
            "text/plain": [
              "   YTIM1A01w2  YTIM1B01w2  YTIM1B02w2  ...  PPHY1B00w2  PPHY1C00w2  PPHY2B00w2\n",
              "0           7          22           0  ...           2           3          60\n",
              "1           7          23           0  ...           2           4          70\n",
              "2           8          24           0  ...           5           7          75\n",
              "\n",
              "[3 rows x 134 columns]"
            ]
          },
          "metadata": {
            "tags": []
          },
          "execution_count": 212
        }
      ]
    },
    {
      "cell_type": "markdown",
      "metadata": {
        "id": "gNtcAtmiiJj_"
      },
      "source": [
        "__훈련, 검증 세트 나누기__"
      ]
    },
    {
      "cell_type": "code",
      "metadata": {
        "id": "0otHvFSviQcO"
      },
      "source": [
        "from sklearn.model_selection import train_test_split\r\n",
        "\r\n",
        "X_train, X_valid, y_train, y_valid = train_test_split(X_train_raw, y_train_raw, random_state=42)"
      ],
      "execution_count": 397,
      "outputs": []
    },
    {
      "cell_type": "markdown",
      "metadata": {
        "id": "HDEKeimxicSx"
      },
      "source": [
        "__SMOTE__"
      ]
    },
    {
      "cell_type": "code",
      "metadata": {
        "colab": {
          "base_uri": "https://localhost:8080/"
        },
        "id": "-vfJZmvPcaWr",
        "outputId": "f06fe6af-dc5f-404a-8099-1429fec19221"
      },
      "source": [
        "from imblearn.over_sampling import SMOTE\r\n",
        "smote = SMOTE(random_state=42)\r\n",
        "X_train_over,y_train_over = smote.fit_sample(X_train, y_train)\r\n",
        "print('SMOTE 적용 전 학습용 피처/레이블 데이터 세트: ', X_train_raw.shape, y_train_raw.shape)\r\n",
        "print('SMOTE 적용 후 학습용 피처/레이블 데이터 세트: ', X_train_over.shape, y_train_over.shape)\r\n",
        "print('SMOTE 적용 후 레이블 값 분포: \\n', pd.Series(y_train_over).value_counts())"
      ],
      "execution_count": 398,
      "outputs": [
        {
          "output_type": "stream",
          "text": [
            "SMOTE 적용 전 학습용 피처/레이블 데이터 세트:  (1950, 134) (1950,)\n",
            "SMOTE 적용 후 학습용 피처/레이블 데이터 세트:  (1990, 134) (1990,)\n",
            "SMOTE 적용 후 레이블 값 분포: \n",
            " 1    995\n",
            "0    995\n",
            "dtype: int64\n"
          ],
          "name": "stdout"
        },
        {
          "output_type": "stream",
          "text": [
            "/usr/local/lib/python3.6/dist-packages/sklearn/utils/deprecation.py:87: FutureWarning: Function safe_indexing is deprecated; safe_indexing is deprecated in version 0.22 and will be removed in version 0.24.\n",
            "  warnings.warn(msg, category=FutureWarning)\n"
          ],
          "name": "stderr"
        }
      ]
    },
    {
      "cell_type": "markdown",
      "metadata": {
        "id": "usacjpVviF5a"
      },
      "source": [
        "__표준화__"
      ]
    },
    {
      "cell_type": "code",
      "metadata": {
        "id": "-vNqPzloctTS"
      },
      "source": [
        "from sklearn.preprocessing import StandardScaler\r\n",
        "\r\n",
        "std_scaler = StandardScaler()\r\n",
        "X_train_scaled = std_scaler.fit_transform(X_train_over)\r\n",
        "X_valid_scaled = std_scaler.transform(X_valid)\r\n",
        "X_test_scaled = std_scaler.transform(X_test)"
      ],
      "execution_count": 399,
      "outputs": []
    },
    {
      "cell_type": "markdown",
      "metadata": {
        "id": "vOTqthYzdHDv"
      },
      "source": [
        "DNN"
      ]
    },
    {
      "cell_type": "code",
      "metadata": {
        "colab": {
          "base_uri": "https://localhost:8080/",
          "height": 35
        },
        "id": "QeuskIQGKvFt",
        "outputId": "80ecc91e-ddef-467e-cb39-037077fc39e2"
      },
      "source": [
        "import tensorflow as tf\r\n",
        "from tensorflow import keras\r\n",
        "\r\n",
        "tf.__version__"
      ],
      "execution_count": 400,
      "outputs": [
        {
          "output_type": "execute_result",
          "data": {
            "application/vnd.google.colaboratory.intrinsic+json": {
              "type": "string"
            },
            "text/plain": [
              "'2.4.0'"
            ]
          },
          "metadata": {
            "tags": []
          },
          "execution_count": 400
        }
      ]
    },
    {
      "cell_type": "code",
      "metadata": {
        "id": "mI7URRVVpI_R"
      },
      "source": [
        "model = keras.models.Sequential([\r\n",
        "                                 keras.layers.Dense(30, activation=\"relu\", input_shape=X_train_scaled.shape[1:]),\r\n",
        "                                 keras.layers.BatchNormalization(),\r\n",
        "                                 keras.layers.Dense(30, activation=\"relu\"),\r\n",
        "                                 keras.layers.BatchNormalization(),\r\n",
        "                                 keras.layers.Dense(30, activation=\"relu\"),\r\n",
        "                                 keras.layers.BatchNormalization(),\r\n",
        "                                 keras.layers.Dense(1, activation=\"sigmoid\")\r\n",
        "])\r\n",
        "model.compile(loss=keras.losses.binary_crossentropy,\r\n",
        "              optimizer=keras.optimizers.Adam(lr=0.0005, beta_1=0.9, beta_2=0.99),\r\n",
        "              metrics=[keras.metrics.binary_accuracy])"
      ],
      "execution_count": 401,
      "outputs": []
    },
    {
      "cell_type": "code",
      "metadata": {
        "colab": {
          "base_uri": "https://localhost:8080/"
        },
        "id": "SpuH5pfnKpH7",
        "outputId": "c6112208-321b-420d-da8b-a4e827718216"
      },
      "source": [
        "history = model.fit(X_train_scaled, y_train_over, epochs=30,\r\n",
        "          validation_data=(X_valid_scaled, y_valid))"
      ],
      "execution_count": 403,
      "outputs": [
        {
          "output_type": "stream",
          "text": [
            "Epoch 1/30\n",
            "63/63 [==============================] - 0s 3ms/step - loss: 0.1181 - binary_accuracy: 0.9673 - val_loss: 0.9476 - val_binary_accuracy: 0.6701\n",
            "Epoch 2/30\n",
            "63/63 [==============================] - 0s 3ms/step - loss: 0.1189 - binary_accuracy: 0.9598 - val_loss: 0.9619 - val_binary_accuracy: 0.6742\n",
            "Epoch 3/30\n",
            "63/63 [==============================] - 0s 2ms/step - loss: 0.1280 - binary_accuracy: 0.9497 - val_loss: 0.9705 - val_binary_accuracy: 0.6639\n",
            "Epoch 4/30\n",
            "63/63 [==============================] - 0s 2ms/step - loss: 0.1082 - binary_accuracy: 0.9673 - val_loss: 1.0114 - val_binary_accuracy: 0.6537\n",
            "Epoch 5/30\n",
            "63/63 [==============================] - 0s 2ms/step - loss: 0.1156 - binary_accuracy: 0.9588 - val_loss: 1.0288 - val_binary_accuracy: 0.6619\n",
            "Epoch 6/30\n",
            "63/63 [==============================] - 0s 2ms/step - loss: 0.0936 - binary_accuracy: 0.9714 - val_loss: 1.0578 - val_binary_accuracy: 0.6475\n",
            "Epoch 7/30\n",
            "63/63 [==============================] - 0s 2ms/step - loss: 0.0964 - binary_accuracy: 0.9683 - val_loss: 1.0724 - val_binary_accuracy: 0.6598\n",
            "Epoch 8/30\n",
            "63/63 [==============================] - 0s 3ms/step - loss: 0.0898 - binary_accuracy: 0.9729 - val_loss: 1.1032 - val_binary_accuracy: 0.6537\n",
            "Epoch 9/30\n",
            "63/63 [==============================] - 0s 2ms/step - loss: 0.0957 - binary_accuracy: 0.9673 - val_loss: 1.1411 - val_binary_accuracy: 0.6455\n",
            "Epoch 10/30\n",
            "63/63 [==============================] - 0s 2ms/step - loss: 0.0843 - binary_accuracy: 0.9754 - val_loss: 1.1438 - val_binary_accuracy: 0.6619\n",
            "Epoch 11/30\n",
            "63/63 [==============================] - 0s 3ms/step - loss: 0.0813 - binary_accuracy: 0.9729 - val_loss: 1.1565 - val_binary_accuracy: 0.6598\n",
            "Epoch 12/30\n",
            "63/63 [==============================] - 0s 2ms/step - loss: 0.0815 - binary_accuracy: 0.9744 - val_loss: 1.1759 - val_binary_accuracy: 0.6578\n",
            "Epoch 13/30\n",
            "63/63 [==============================] - 0s 2ms/step - loss: 0.0786 - binary_accuracy: 0.9759 - val_loss: 1.1913 - val_binary_accuracy: 0.6578\n",
            "Epoch 14/30\n",
            "63/63 [==============================] - 0s 2ms/step - loss: 0.0669 - binary_accuracy: 0.9824 - val_loss: 1.2400 - val_binary_accuracy: 0.6660\n",
            "Epoch 15/30\n",
            "63/63 [==============================] - 0s 3ms/step - loss: 0.0736 - binary_accuracy: 0.9754 - val_loss: 1.2474 - val_binary_accuracy: 0.6557\n",
            "Epoch 16/30\n",
            "63/63 [==============================] - 0s 3ms/step - loss: 0.0639 - binary_accuracy: 0.9834 - val_loss: 1.2927 - val_binary_accuracy: 0.6598\n",
            "Epoch 17/30\n",
            "63/63 [==============================] - 0s 3ms/step - loss: 0.0554 - binary_accuracy: 0.9849 - val_loss: 1.2888 - val_binary_accuracy: 0.6557\n",
            "Epoch 18/30\n",
            "63/63 [==============================] - 0s 2ms/step - loss: 0.0670 - binary_accuracy: 0.9809 - val_loss: 1.3188 - val_binary_accuracy: 0.6537\n",
            "Epoch 19/30\n",
            "63/63 [==============================] - 0s 2ms/step - loss: 0.0621 - binary_accuracy: 0.9799 - val_loss: 1.3345 - val_binary_accuracy: 0.6557\n",
            "Epoch 20/30\n",
            "63/63 [==============================] - 0s 2ms/step - loss: 0.0557 - binary_accuracy: 0.9824 - val_loss: 1.3678 - val_binary_accuracy: 0.6373\n",
            "Epoch 21/30\n",
            "63/63 [==============================] - 0s 2ms/step - loss: 0.0755 - binary_accuracy: 0.9709 - val_loss: 1.3473 - val_binary_accuracy: 0.6598\n",
            "Epoch 22/30\n",
            "63/63 [==============================] - 0s 3ms/step - loss: 0.0602 - binary_accuracy: 0.9824 - val_loss: 1.3587 - val_binary_accuracy: 0.6455\n",
            "Epoch 23/30\n",
            "63/63 [==============================] - 0s 2ms/step - loss: 0.0506 - binary_accuracy: 0.9859 - val_loss: 1.3813 - val_binary_accuracy: 0.6496\n",
            "Epoch 24/30\n",
            "63/63 [==============================] - 0s 2ms/step - loss: 0.0497 - binary_accuracy: 0.9859 - val_loss: 1.4177 - val_binary_accuracy: 0.6414\n",
            "Epoch 25/30\n",
            "63/63 [==============================] - 0s 2ms/step - loss: 0.0466 - binary_accuracy: 0.9894 - val_loss: 1.4317 - val_binary_accuracy: 0.6496\n",
            "Epoch 26/30\n",
            "63/63 [==============================] - 0s 2ms/step - loss: 0.0510 - binary_accuracy: 0.9839 - val_loss: 1.4298 - val_binary_accuracy: 0.6619\n",
            "Epoch 27/30\n",
            "63/63 [==============================] - 0s 3ms/step - loss: 0.0499 - binary_accuracy: 0.9819 - val_loss: 1.4367 - val_binary_accuracy: 0.6619\n",
            "Epoch 28/30\n",
            "63/63 [==============================] - 0s 2ms/step - loss: 0.0556 - binary_accuracy: 0.9784 - val_loss: 1.4718 - val_binary_accuracy: 0.6619\n",
            "Epoch 29/30\n",
            "63/63 [==============================] - 0s 2ms/step - loss: 0.0458 - binary_accuracy: 0.9874 - val_loss: 1.4897 - val_binary_accuracy: 0.6619\n",
            "Epoch 30/30\n",
            "63/63 [==============================] - 0s 2ms/step - loss: 0.0455 - binary_accuracy: 0.9884 - val_loss: 1.5007 - val_binary_accuracy: 0.6619\n"
          ],
          "name": "stdout"
        }
      ]
    },
    {
      "cell_type": "code",
      "metadata": {
        "colab": {
          "base_uri": "https://localhost:8080/",
          "height": 324
        },
        "id": "9EDmRrnbL17P",
        "outputId": "ad637a8a-74d9-44d5-ed4b-41f20ee4a87a"
      },
      "source": [
        "import pandas as pd\r\n",
        "import matplotlib.pyplot as plt\r\n",
        "\r\n",
        "pd.DataFrame(history.history).plot(figsize=(8,5))\r\n",
        "plt.grid(True)\r\n",
        "plt.gca().set_ylim(0.1,1)\r\n",
        "plt.show()"
      ],
      "execution_count": 404,
      "outputs": [
        {
          "output_type": "display_data",
          "data": {
            "image/png": "[encoded data removed]",
            "text/plain": [
              "<Figure size 576x360 with 1 Axes>"
            ]
          },
          "metadata": {
            "tags": [],
            "needs_background": "light"
          }
        }
      ]
    },
    {
      "cell_type": "code",
      "metadata": {
        "colab": {
          "base_uri": "https://localhost:8080/"
        },
        "id": "vikm_uWKbPkd",
        "outputId": "a4d69e49-745a-4c65-f8c7-3fff00b05016"
      },
      "source": [
        "model.evaluate(X_test_scaled,y_test_raw)"
      ],
      "execution_count": 227,
      "outputs": [
        {
          "output_type": "stream",
          "text": [
            "16/16 [==============================] - 0s 1ms/step - loss: 0.9317 - binary_accuracy: 0.6434\n"
          ],
          "name": "stdout"
        },
        {
          "output_type": "execute_result",
          "data": {
            "text/plain": [
              "[0.931732177734375, 0.6434426307678223]"
            ]
          },
          "metadata": {
            "tags": []
          },
          "execution_count": 227
        }
      ]
    },
    {
      "cell_type": "code",
      "metadata": {
        "colab": {
          "base_uri": "https://localhost:8080/"
        },
        "id": "iimHZ55pkCb1",
        "outputId": "c73535a7-1628-4448-bca6-70e3f526aa55"
      },
      "source": [
        "np.mean(y_valid==1)"
      ],
      "execution_count": 233,
      "outputs": [
        {
          "output_type": "execute_result",
          "data": {
            "text/plain": [
              "0.7049180327868853"
            ]
          },
          "metadata": {
            "tags": []
          },
          "execution_count": 233
        }
      ]
    },
    {
      "cell_type": "markdown",
      "metadata": {
        "id": "rBZI8ON-m4Kf"
      },
      "source": [
        "## 랜포"
      ]
    },
    {
      "cell_type": "code",
      "metadata": {
        "colab": {
          "base_uri": "https://localhost:8080/"
        },
        "id": "hk198XvekDcV",
        "outputId": "a739940a-1ad4-4b2b-8376-b233eb463e0e"
      },
      "source": [
        "from sklearn.ensemble import RandomForestClassifier\r\n",
        "from sklearn.metrics import recall_score\r\n",
        "\r\n",
        "\r\n",
        "param_n = [200,250,300,350,400]\r\n",
        "rf_score = []\r\n",
        "for n in param_n:\r\n",
        "    rfc = RandomForestClassifier(n_jobs=-1, n_estimators=n, random_state=42)\r\n",
        "    rfc.fit(X_train_scaled, y_train_over)\r\n",
        "    y_pred = rfc.predict(X_valid_scaled)\r\n",
        "    rf_score.append(recall_score(y_valid, y_pred))\r\n",
        "\r\n",
        "rf_score"
      ],
      "execution_count": 406,
      "outputs": [
        {
          "output_type": "execute_result",
          "data": {
            "text/plain": [
              "[0.8372093023255814,\n",
              " 0.8459302325581395,\n",
              " 0.8604651162790697,\n",
              " 0.8604651162790697,\n",
              " 0.8604651162790697]"
            ]
          },
          "metadata": {
            "tags": []
          },
          "execution_count": 406
        }
      ]
    },
    {
      "cell_type": "markdown",
      "metadata": {
        "id": "_04I8OZj2RqT"
      },
      "source": [
        "- n_estimators=300 일 때, recall이 최대"
      ]
    },
    {
      "cell_type": "code",
      "metadata": {
        "colab": {
          "base_uri": "https://localhost:8080/"
        },
        "id": "Jo08xnPyv-Wq",
        "outputId": "545fc08b-7127-4175-f727-94c2ac5ad67f"
      },
      "source": [
        "rfc_best = RandomForestClassifier(n_jobs=-1, n_estimators=300, random_state=42)\r\n",
        "rfc_best.fit(X_train_scaled, y_train_over)\r\n",
        "y_pred_rf = rfc_best.predict(X_test_scaled)\r\n",
        "recall_score(y_test, y_pred_rf)"
      ],
      "execution_count": 407,
      "outputs": [
        {
          "output_type": "execute_result",
          "data": {
            "text/plain": [
              "0.8601823708206687"
            ]
          },
          "metadata": {
            "tags": []
          },
          "execution_count": 407
        }
      ]
    },
    {
      "cell_type": "markdown",
      "metadata": {
        "id": "9lZrWAI5kpEH"
      },
      "source": [
        "## 부스팅"
      ]
    },
    {
      "cell_type": "code",
      "metadata": {
        "colab": {
          "base_uri": "https://localhost:8080/"
        },
        "id": "aq2_zXvBm6uF",
        "outputId": "9c61413e-dc44-4df9-b83f-71a1c031af9f"
      },
      "source": [
        "from sklearn.ensemble import GradientBoostingClassifier\r\n",
        "from sklearn.metrics import recall_score\r\n",
        "\r\n",
        "gbrt = GradientBoostingClassifier(max_depth=2, n_estimators=1000, random_state=42)\r\n",
        "gbrt.fit(X_train_scaled, y_train_over)\r\n",
        "\r\n",
        "# n_estimators=200이므로, score의 길이는 200 \r\n",
        "# score는 재현율(recall)\r\n",
        "scores = [recall_score(y_valid, y_pred)\r\n",
        "          for y_pred in gbrt.staged_predict(X_valid_scaled)] \r\n",
        "\r\n",
        "bst_n_estimators = np.argmax(scores) + 1\r\n",
        "\r\n",
        "gbrt_best = GradientBoostingClassifier(max_depth=2, n_estimators=bst_n_estimators, random_state=42)\r\n",
        "gbrt_best.fit(X_train_scaled, y_train_over)"
      ],
      "execution_count": 420,
      "outputs": [
        {
          "output_type": "execute_result",
          "data": {
            "text/plain": [
              "GradientBoostingClassifier(ccp_alpha=0.0, criterion='friedman_mse', init=None,\n",
              "                           learning_rate=0.1, loss='deviance', max_depth=2,\n",
              "                           max_features=None, max_leaf_nodes=None,\n",
              "                           min_impurity_decrease=0.0, min_impurity_split=None,\n",
              "                           min_samples_leaf=1, min_samples_split=2,\n",
              "                           min_weight_fraction_leaf=0.0, n_estimators=758,\n",
              "                           n_iter_no_change=None, presort='deprecated',\n",
              "                           random_state=42, subsample=1.0, tol=0.0001,\n",
              "                           validation_fraction=0.1, verbose=0,\n",
              "                           warm_start=False)"
            ]
          },
          "metadata": {
            "tags": []
          },
          "execution_count": 420
        }
      ]
    },
    {
      "cell_type": "code",
      "metadata": {
        "colab": {
          "base_uri": "https://localhost:8080/"
        },
        "id": "MuSWaTROrqP6",
        "outputId": "a61ff5b3-9b4b-4c3b-8898-ef39572a83b5"
      },
      "source": [
        "max_score = np.max(scores)\r\n",
        "bst_n_estimators, max_score"
      ],
      "execution_count": 421,
      "outputs": [
        {
          "output_type": "execute_result",
          "data": {
            "text/plain": [
              "(758, 0.8401162790697675)"
            ]
          },
          "metadata": {
            "tags": []
          },
          "execution_count": 421
        }
      ]
    },
    {
      "cell_type": "code",
      "metadata": {
        "colab": {
          "base_uri": "https://localhost:8080/",
          "height": 392
        },
        "id": "9ntGilTaruVc",
        "outputId": "4f229899-3bf3-499e-babb-3a2674d479c1"
      },
      "source": [
        "plt.figure(figsize=(20, 6))\r\n",
        "\r\n",
        "plt.subplot(121)\r\n",
        "plt.plot(scores, \"b.-\")\r\n",
        "plt.plot([bst_n_estimators, bst_n_estimators], [0, max_score], \"k--\")\r\n",
        "plt.plot([0, 1000], [max_score, max_score], \"k--\")\r\n",
        "plt.plot(bst_n_estimators, max_score, \"ko\")\r\n",
        "plt.text(bst_n_estimators, max_score*0.92, \"Maximum\", ha=\"center\", fontsize=14, color=\"red\")\r\n",
        "plt.text(bst_n_estimators, max_score*0.88, \"Recall\", ha=\"center\", fontsize=14, color=\"red\")"
      ],
      "execution_count": 423,
      "outputs": [
        {
          "output_type": "execute_result",
          "data": {
            "text/plain": [
              "Text(758, 0.7393023255813954, 'Recall')"
            ]
          },
          "metadata": {
            "tags": []
          },
          "execution_count": 423
        },
        {
          "output_type": "display_data",
          "data": {
            "image/png": "[encoded data removed]",
            "text/plain": [
              "<Figure size 1440x432 with 1 Axes>"
            ]
          },
          "metadata": {
            "tags": [],
            "needs_background": "light"
          }
        }
      ]
    },
    {
      "cell_type": "code",
      "metadata": {
        "colab": {
          "base_uri": "https://localhost:8080/"
        },
        "id": "_bzcQporsMY9",
        "outputId": "eb9ffad6-95f3-4746-8ccf-2ab24f34a3a9"
      },
      "source": [
        "y_pred_gb = gbrt_best.predict(X_test_scaled)\r\n",
        "recall_score(y_test, y_pred_gb)"
      ],
      "execution_count": 424,
      "outputs": [
        {
          "output_type": "execute_result",
          "data": {
            "text/plain": [
              "0.7689969604863222"
            ]
          },
          "metadata": {
            "tags": []
          },
          "execution_count": 424
        }
      ]
    },
    {
      "cell_type": "code",
      "metadata": {
        "id": "zDH_pUuItb5j"
      },
      "source": [
        ""
      ],
      "execution_count": null,
      "outputs": []
    }
  ]
}