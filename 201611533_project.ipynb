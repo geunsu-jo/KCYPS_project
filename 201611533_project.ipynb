{
  "nbformat": 4,
  "nbformat_minor": 0,
  "metadata": {
    "colab": {
      "name": "201611533_project.ipynb",
      "provenance": [],
      "collapsed_sections": [],
      "toc_visible": true,
      "mount_file_id": "1oE66Prgz4w2ojbPgH7BCq4j1HOxVv8Up",
      "authorship_tag": "ABX9TyNRHwTFzME5L7POA5JaAa9J",
      "include_colab_link": true
    },
    "kernelspec": {
      "name": "python3",
      "display_name": "Python 3"
    }
  },
  "cells": [
    {
      "cell_type": "markdown",
      "metadata": {
        "id": "view-in-github",
        "colab_type": "text"
      },
      "source": [
        "<a href=\"https://colab.research.google.com/github/geunsu-jo/KCYPS_project/blob/main/201611533_project.ipynb\" target=\"_parent\"><img src=\"https://colab.research.google.com/assets/colab-badge.svg\" alt=\"Open In Colab\"/></a>"
      ]
    },
    {
      "cell_type": "code",
      "metadata": {
        "id": "qOZtmyeHnNes"
      },
      "source": [
        "import numpy as np\r\n",
        "import pandas as pd"
      ],
      "execution_count": 371,
      "outputs": []
    },
    {
      "cell_type": "code",
      "metadata": {
        "id": "rGKnKOaonPCq"
      },
      "source": [
        "train_data = pd.read_excel(\"/content/drive/MyDrive/Colab Notebooks/train_data.xlsx\")\r\n",
        "test_data = pd.read_excel(\"/content/drive/MyDrive/Colab Notebooks/test_data.xlsx\")"
      ],
      "execution_count": 372,
      "outputs": []
    },
    {
      "cell_type": "code",
      "metadata": {
        "id": "UpmWeZamnslX",
        "colab": {
          "base_uri": "https://localhost:8080/"
        },
        "outputId": "8d857ad6-febf-4e1c-80b9-2464607ef2af"
      },
      "source": [
        "train_data.shape, test_data.shape"
      ],
      "execution_count": 373,
      "outputs": [
        {
          "output_type": "execute_result",
          "data": {
            "text/plain": [
              "((1950, 42), (488, 42))"
            ]
          },
          "metadata": {
            "tags": []
          },
          "execution_count": 373
        }
      ]
    },
    {
      "cell_type": "markdown",
      "metadata": {
        "id": "IDLL0j8_ccGj"
      },
      "source": [
        "__target__ 데이터 생성"
      ]
    },
    {
      "cell_type": "code",
      "metadata": {
        "id": "k5qGWSK5nyy0"
      },
      "source": [
        "y_train = train_data[\"y\"]\r\n",
        "y_test = test_data[\"y\"]"
      ],
      "execution_count": 374,
      "outputs": []
    },
    {
      "cell_type": "markdown",
      "metadata": {
        "id": "gNFG7Qt1ceQJ"
      },
      "source": [
        "__feature__데이터 생성"
      ]
    },
    {
      "cell_type": "code",
      "metadata": {
        "id": "msK-KLJCn1Ke",
        "colab": {
          "base_uri": "https://localhost:8080/",
          "height": 156
        },
        "outputId": "c7bc85b7-3dd0-4de4-a067-71676f7634c5"
      },
      "source": [
        "X_train = train_data.drop(['y'], axis=1)\r\n",
        "X_test = test_data.drop(['y'], axis=1)\r\n",
        "X_train.head(3)"
      ],
      "execution_count": 375,
      "outputs": [
        {
          "output_type": "execute_result",
          "data": {
            "text/html": [
              "<div>\n",
              "<style scoped>\n",
              "    .dataframe tbody tr th:only-of-type {\n",
              "        vertical-align: middle;\n",
              "    }\n",
              "\n",
              "    .dataframe tbody tr th {\n",
              "        vertical-align: top;\n",
              "    }\n",
              "\n",
              "    .dataframe thead th {\n",
              "        text-align: right;\n",
              "    }\n",
              "</style>\n",
              "<table border=\"1\" class=\"dataframe\">\n",
              "  <thead>\n",
              "    <tr style=\"text-align: right;\">\n",
              "      <th></th>\n",
              "      <th>YTIM1C02w2</th>\n",
              "      <th>YTIM1D02w2</th>\n",
              "      <th>YTIM1E02w2</th>\n",
              "      <th>YTIM1G02w2</th>\n",
              "      <th>YTIM1K01w2</th>\n",
              "      <th>YTIM1K02w2</th>\n",
              "      <th>YTIM1L02w2</th>\n",
              "      <th>YTIM1N01w2</th>\n",
              "      <th>YTIM1N02w2</th>\n",
              "      <th>YINT2B08w2</th>\n",
              "      <th>YINT2B16w2</th>\n",
              "      <th>YPSY4A01w2</th>\n",
              "      <th>YPSY4A02w2</th>\n",
              "      <th>YPSY4B02w2</th>\n",
              "      <th>YPSY4B04w2</th>\n",
              "      <th>YPSY4B05w2</th>\n",
              "      <th>YPSY4C02w2</th>\n",
              "      <th>YPSY4C03w2</th>\n",
              "      <th>YPSY4C05w2</th>\n",
              "      <th>YPSY4C08w2</th>\n",
              "      <th>YPSY5A05w2</th>\n",
              "      <th>YPSY5A06w2</th>\n",
              "      <th>YPSY6A08w2</th>\n",
              "      <th>YPSY6A20w2</th>\n",
              "      <th>YPSY6A30w2</th>\n",
              "      <th>YDLQ2A01w2</th>\n",
              "      <th>YDLQ2A02w2</th>\n",
              "      <th>YDLQ2A11w2</th>\n",
              "      <th>YDLQ2A13w2</th>\n",
              "      <th>YDLQ2A15w2</th>\n",
              "      <th>YMDA1B05w2</th>\n",
              "      <th>YMDA1B06w2</th>\n",
              "      <th>YMDA1B09w2</th>\n",
              "      <th>YMDA1C01w2</th>\n",
              "      <th>YMDA1C02w2</th>\n",
              "      <th>YMDA1C08w2</th>\n",
              "      <th>YMDA1C14w2</th>\n",
              "      <th>YEDU2A09w2</th>\n",
              "      <th>YEDU3A04w2</th>\n",
              "      <th>YEDU3A05w2</th>\n",
              "      <th>YEDU3A10w2</th>\n",
              "    </tr>\n",
              "  </thead>\n",
              "  <tbody>\n",
              "    <tr>\n",
              "      <th>0</th>\n",
              "      <td>3</td>\n",
              "      <td>3</td>\n",
              "      <td>1</td>\n",
              "      <td>1</td>\n",
              "      <td>4</td>\n",
              "      <td>5</td>\n",
              "      <td>2</td>\n",
              "      <td>4</td>\n",
              "      <td>4</td>\n",
              "      <td>2</td>\n",
              "      <td>2</td>\n",
              "      <td>2</td>\n",
              "      <td>2</td>\n",
              "      <td>2</td>\n",
              "      <td>2</td>\n",
              "      <td>2</td>\n",
              "      <td>2</td>\n",
              "      <td>2</td>\n",
              "      <td>2</td>\n",
              "      <td>2</td>\n",
              "      <td>3</td>\n",
              "      <td>3</td>\n",
              "      <td>0</td>\n",
              "      <td>1</td>\n",
              "      <td>0</td>\n",
              "      <td>1</td>\n",
              "      <td>1</td>\n",
              "      <td>1</td>\n",
              "      <td>1</td>\n",
              "      <td>1</td>\n",
              "      <td>4</td>\n",
              "      <td>1</td>\n",
              "      <td>4</td>\n",
              "      <td>3</td>\n",
              "      <td>2</td>\n",
              "      <td>2</td>\n",
              "      <td>3</td>\n",
              "      <td>2</td>\n",
              "      <td>2</td>\n",
              "      <td>3</td>\n",
              "      <td>2</td>\n",
              "    </tr>\n",
              "    <tr>\n",
              "      <th>1</th>\n",
              "      <td>3</td>\n",
              "      <td>5</td>\n",
              "      <td>1</td>\n",
              "      <td>1</td>\n",
              "      <td>6</td>\n",
              "      <td>6</td>\n",
              "      <td>6</td>\n",
              "      <td>5</td>\n",
              "      <td>6</td>\n",
              "      <td>2</td>\n",
              "      <td>2</td>\n",
              "      <td>2</td>\n",
              "      <td>2</td>\n",
              "      <td>2</td>\n",
              "      <td>2</td>\n",
              "      <td>2</td>\n",
              "      <td>2</td>\n",
              "      <td>2</td>\n",
              "      <td>3</td>\n",
              "      <td>2</td>\n",
              "      <td>4</td>\n",
              "      <td>3</td>\n",
              "      <td>0</td>\n",
              "      <td>0</td>\n",
              "      <td>0</td>\n",
              "      <td>1</td>\n",
              "      <td>1</td>\n",
              "      <td>1</td>\n",
              "      <td>1</td>\n",
              "      <td>1</td>\n",
              "      <td>2</td>\n",
              "      <td>4</td>\n",
              "      <td>4</td>\n",
              "      <td>2</td>\n",
              "      <td>3</td>\n",
              "      <td>2</td>\n",
              "      <td>3</td>\n",
              "      <td>3</td>\n",
              "      <td>3</td>\n",
              "      <td>3</td>\n",
              "      <td>3</td>\n",
              "    </tr>\n",
              "    <tr>\n",
              "      <th>2</th>\n",
              "      <td>4</td>\n",
              "      <td>4</td>\n",
              "      <td>1</td>\n",
              "      <td>1</td>\n",
              "      <td>4</td>\n",
              "      <td>4</td>\n",
              "      <td>3</td>\n",
              "      <td>4</td>\n",
              "      <td>5</td>\n",
              "      <td>1</td>\n",
              "      <td>1</td>\n",
              "      <td>3</td>\n",
              "      <td>2</td>\n",
              "      <td>2</td>\n",
              "      <td>1</td>\n",
              "      <td>1</td>\n",
              "      <td>1</td>\n",
              "      <td>2</td>\n",
              "      <td>1</td>\n",
              "      <td>2</td>\n",
              "      <td>3</td>\n",
              "      <td>4</td>\n",
              "      <td>0</td>\n",
              "      <td>1</td>\n",
              "      <td>0</td>\n",
              "      <td>1</td>\n",
              "      <td>1</td>\n",
              "      <td>1</td>\n",
              "      <td>1</td>\n",
              "      <td>1</td>\n",
              "      <td>3</td>\n",
              "      <td>2</td>\n",
              "      <td>4</td>\n",
              "      <td>2</td>\n",
              "      <td>2</td>\n",
              "      <td>1</td>\n",
              "      <td>1</td>\n",
              "      <td>1</td>\n",
              "      <td>2</td>\n",
              "      <td>2</td>\n",
              "      <td>2</td>\n",
              "    </tr>\n",
              "  </tbody>\n",
              "</table>\n",
              "</div>"
            ],
            "text/plain": [
              "   YTIM1C02w2  YTIM1D02w2  YTIM1E02w2  ...  YEDU3A04w2  YEDU3A05w2  YEDU3A10w2\n",
              "0           3           3           1  ...           2           3           2\n",
              "1           3           5           1  ...           3           3           3\n",
              "2           4           4           1  ...           2           2           2\n",
              "\n",
              "[3 rows x 41 columns]"
            ]
          },
          "metadata": {
            "tags": []
          },
          "execution_count": 375
        }
      ]
    },
    {
      "cell_type": "code",
      "metadata": {
        "colab": {
          "base_uri": "https://localhost:8080/",
          "height": 318
        },
        "id": "zw0yVcvSMGJv",
        "outputId": "78253a20-409c-44a7-8267-89a946069606"
      },
      "source": [
        "import matplotlib.pyplot as plt\r\n",
        "freq = y_train.value_counts()\r\n",
        "plt.bar(freq.index, freq)\r\n",
        "plt.xticks(freq.index.values)"
      ],
      "execution_count": 376,
      "outputs": [
        {
          "output_type": "execute_result",
          "data": {
            "text/plain": [
              "([<matplotlib.axis.XTick at 0x7f3c9d2414e0>,\n",
              "  <matplotlib.axis.XTick at 0x7f3c9d2415c0>],\n",
              " <a list of 2 Text major ticklabel objects>)"
            ]
          },
          "metadata": {
            "tags": []
          },
          "execution_count": 376
        },
        {
          "output_type": "display_data",
          "data": {
            "image/png": "[encoded data removed]",
            "text/plain": [
              "<Figure size 432x288 with 1 Axes>"
            ]
          },
          "metadata": {
            "tags": [],
            "needs_background": "light"
          }
        }
      ]
    },
    {
      "cell_type": "markdown",
      "metadata": {
        "id": "usacjpVviF5a"
      },
      "source": [
        "__표준화__"
      ]
    },
    {
      "cell_type": "code",
      "metadata": {
        "id": "-vNqPzloctTS"
      },
      "source": [
        "from sklearn.preprocessing import StandardScaler\r\n",
        "\r\n",
        "std_scaler = StandardScaler()\r\n",
        "X_train_scaled = std_scaler.fit_transform(X_train)\r\n",
        "X_test_scaled = std_scaler.transform(X_test)"
      ],
      "execution_count": 377,
      "outputs": []
    },
    {
      "cell_type": "markdown",
      "metadata": {
        "id": "rBZI8ON-m4Kf"
      },
      "source": [
        "## 랜포"
      ]
    },
    {
      "cell_type": "code",
      "metadata": {
        "colab": {
          "base_uri": "https://localhost:8080/"
        },
        "id": "hk198XvekDcV",
        "outputId": "515eee5a-6bb5-4cbf-edf7-a188d7e41cfe"
      },
      "source": [
        "from sklearn.model_selection import GridSearchCV\r\n",
        "from sklearn.ensemble import RandomForestClassifier\r\n",
        "from sklearn.model_selection import RandomizedSearchCV\r\n",
        "\r\n",
        "param_rfc = {'n_estimators':np.arange(300,500),\r\n",
        "             'max_features':np.arange(4,8)}\r\n",
        "\r\n",
        "rfc = RandomForestClassifier(n_jobs=-1, random_state=42)\r\n",
        "rnd_search_rfc = RandomizedSearchCV(rfc, param_rfc, n_iter=20, cv=5, \r\n",
        "                           scoring=\"recall\",\r\n",
        "                           return_train_score=True)\r\n",
        "rnd_search_rfc.fit(X_train_scaled, y_train)"
      ],
      "execution_count": 467,
      "outputs": [
        {
          "output_type": "execute_result",
          "data": {
            "text/plain": [
              "RandomizedSearchCV(cv=5, error_score=nan,\n",
              "                   estimator=RandomForestClassifier(bootstrap=True,\n",
              "                                                    ccp_alpha=0.0,\n",
              "                                                    class_weight=None,\n",
              "                                                    criterion='gini',\n",
              "                                                    max_depth=None,\n",
              "                                                    max_features='auto',\n",
              "                                                    max_leaf_nodes=None,\n",
              "                                                    max_samples=None,\n",
              "                                                    min_impurity_decrease=0.0,\n",
              "                                                    min_impurity_split=None,\n",
              "                                                    min_samples_leaf=1,\n",
              "                                                    min_samples_split=2,\n",
              "                                                    min_weight_fraction_leaf=0.0,\n",
              "                                                    n_estimators=100, n_jobs...\n",
              "       430, 431, 432, 433, 434, 435, 436, 437, 438, 439, 440, 441, 442,\n",
              "       443, 444, 445, 446, 447, 448, 449, 450, 451, 452, 453, 454, 455,\n",
              "       456, 457, 458, 459, 460, 461, 462, 463, 464, 465, 466, 467, 468,\n",
              "       469, 470, 471, 472, 473, 474, 475, 476, 477, 478, 479, 480, 481,\n",
              "       482, 483, 484, 485, 486, 487, 488, 489, 490, 491, 492, 493, 494,\n",
              "       495, 496, 497, 498, 499])},\n",
              "                   pre_dispatch='2*n_jobs', random_state=None, refit=True,\n",
              "                   return_train_score=True, scoring='recall', verbose=0)"
            ]
          },
          "metadata": {
            "tags": []
          },
          "execution_count": 467
        }
      ]
    },
    {
      "cell_type": "code",
      "metadata": {
        "colab": {
          "base_uri": "https://localhost:8080/"
        },
        "id": "zAyZTb7Cbruf",
        "outputId": "b980b438-1eca-43fc-c8f3-f5b7dbcf3dc7"
      },
      "source": [
        "rnd_search_rfc.best_params_"
      ],
      "execution_count": 468,
      "outputs": [
        {
          "output_type": "execute_result",
          "data": {
            "text/plain": [
              "{'max_features': 7, 'n_estimators': 450}"
            ]
          },
          "metadata": {
            "tags": []
          },
          "execution_count": 468
        }
      ]
    },
    {
      "cell_type": "code",
      "metadata": {
        "id": "8PJOXwGRb8s8"
      },
      "source": [
        "pred_rf_proba = rnd_search_rfc.best_estimator_.predict_proba(X_test_scaled)[:,1]\r\n",
        "\r\n",
        "from sklearn.metrics import roc_curve\r\n",
        "fpr, tpr, thr = roc_curve(y_test, pred_rf_proba)"
      ],
      "execution_count": 469,
      "outputs": []
    },
    {
      "cell_type": "code",
      "metadata": {
        "colab": {
          "base_uri": "https://localhost:8080/",
          "height": 265
        },
        "id": "MLWRZRfacRIl",
        "outputId": "577e3ddb-c44e-4918-bc98-871fde8a97ce"
      },
      "source": [
        "def plot_roc_curve(fpr, tpr, label=None):\r\n",
        "    plt.plot(fpr, tpr, linewidth=2, label=label)\r\n",
        "    plt.plot([0,1], [0,1], 'k--')\r\n",
        "\r\n",
        "plot_roc_curve(fpr, tpr)"
      ],
      "execution_count": 470,
      "outputs": [
        {
          "output_type": "display_data",
          "data": {
            "image/png": "[encoded data removed]",
            "text/plain": [
              "<Figure size 432x288 with 1 Axes>"
            ]
          },
          "metadata": {
            "tags": [],
            "needs_background": "light"
          }
        }
      ]
    },
    {
      "cell_type": "markdown",
      "metadata": {
        "id": "rG2le8HsEJ2Y"
      },
      "source": [
        "## SVM"
      ]
    },
    {
      "cell_type": "code",
      "metadata": {
        "colab": {
          "base_uri": "https://localhost:8080/"
        },
        "id": "V2gnjMd9TPfP",
        "outputId": "c5e36a09-7db7-4fab-e875-567f6ce7128b"
      },
      "source": [
        "from sklearn.svm import SVC\r\n",
        "\r\n",
        "svc = SVC(kernel=\"rbf\", gamma=0.1, C=0.2, probability=True, random_state=42)\r\n",
        "svc.fit(X_train_scaled, y_train)"
      ],
      "execution_count": 471,
      "outputs": [
        {
          "output_type": "execute_result",
          "data": {
            "text/plain": [
              "SVC(C=0.2, break_ties=False, cache_size=200, class_weight=None, coef0=0.0,\n",
              "    decision_function_shape='ovr', degree=3, gamma=0.1, kernel='rbf',\n",
              "    max_iter=-1, probability=True, random_state=42, shrinking=True, tol=0.001,\n",
              "    verbose=False)"
            ]
          },
          "metadata": {
            "tags": []
          },
          "execution_count": 471
        }
      ]
    },
    {
      "cell_type": "code",
      "metadata": {
        "colab": {
          "base_uri": "https://localhost:8080/"
        },
        "id": "E4PT2mKCe8wn",
        "outputId": "dda58c34-270c-4dd6-d37b-cae9d0d4c5d6"
      },
      "source": [
        "from sklearn.model_selection import RandomizedSearchCV\r\n",
        "from sklearn.svm import SVC\r\n",
        "\r\n",
        "param_svm = {\r\n",
        "    \"gamma\": np.arange(1,10)/50,\r\n",
        "    \"C\": np.arange(1,10)/20\r\n",
        "}\r\n",
        "svc = SVC(kernel=\"rbf\", probability=True, random_state=42)\r\n",
        "\r\n",
        "rnd_search_svc = RandomizedSearchCV(svc, param_svm, n_iter=20, cv=5,\r\n",
        "                                   scoring=\"recall\", random_state=42,\r\n",
        "                                   return_train_score=True) # n_iter는 파라미터공간에서 선택할(반복할) 파라미터 수\r\n",
        "rnd_search_svc.fit(X_train_scaled, y_train)"
      ],
      "execution_count": 472,
      "outputs": [
        {
          "output_type": "execute_result",
          "data": {
            "text/plain": [
              "RandomizedSearchCV(cv=5, error_score=nan,\n",
              "                   estimator=SVC(C=1.0, break_ties=False, cache_size=200,\n",
              "                                 class_weight=None, coef0=0.0,\n",
              "                                 decision_function_shape='ovr', degree=3,\n",
              "                                 gamma='scale', kernel='rbf', max_iter=-1,\n",
              "                                 probability=True, random_state=42,\n",
              "                                 shrinking=True, tol=0.001, verbose=False),\n",
              "                   iid='deprecated', n_iter=20, n_jobs=None,\n",
              "                   param_distributions={'C': array([0.05, 0.1 , 0.15, 0.2 , 0.25, 0.3 , 0.35, 0.4 , 0.45]),\n",
              "                                        'gamma': array([0.02, 0.04, 0.06, 0.08, 0.1 , 0.12, 0.14, 0.16, 0.18])},\n",
              "                   pre_dispatch='2*n_jobs', random_state=42, refit=True,\n",
              "                   return_train_score=True, scoring='recall', verbose=0)"
            ]
          },
          "metadata": {
            "tags": []
          },
          "execution_count": 472
        }
      ]
    },
    {
      "cell_type": "code",
      "metadata": {
        "colab": {
          "base_uri": "https://localhost:8080/"
        },
        "id": "YHGysgm1lU43",
        "outputId": "40928f16-fcb1-4a99-aa05-5be879c8298b"
      },
      "source": [
        "rnd_search_svc.best_params_"
      ],
      "execution_count": 473,
      "outputs": [
        {
          "output_type": "execute_result",
          "data": {
            "text/plain": [
              "{'C': 0.3, 'gamma': 0.02}"
            ]
          },
          "metadata": {
            "tags": []
          },
          "execution_count": 473
        }
      ]
    },
    {
      "cell_type": "code",
      "metadata": {
        "colab": {
          "base_uri": "https://localhost:8080/",
          "height": 265
        },
        "id": "0yOXZJNpTRjl",
        "outputId": "799e0395-5535-40cd-afdd-ba2086abd58d"
      },
      "source": [
        "pred_svc_proba = rnd_search_svc.best_estimator_.predict_proba(X_test_scaled)[:,1]\r\n",
        "\r\n",
        "fpr, tpr, thr = roc_curve(y_test, pred_svc_proba)\r\n",
        "plot_roc_curve(fpr, tpr)"
      ],
      "execution_count": 474,
      "outputs": [
        {
          "output_type": "display_data",
          "data": {
            "image/png": "[encoded data removed]",
            "text/plain": [
              "<Figure size 432x288 with 1 Axes>"
            ]
          },
          "metadata": {
            "tags": [],
            "needs_background": "light"
          }
        }
      ]
    }
  ]
}